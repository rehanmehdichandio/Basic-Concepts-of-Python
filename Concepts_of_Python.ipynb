{
  "nbformat": 4,
  "nbformat_minor": 0,
  "metadata": {
    "colab": {
      "provenance": [],
      "authorship_tag": "ABX9TyMNpQsGdDZbyWyTGwN8RUlH",
      "include_colab_link": true
    },
    "kernelspec": {
      "name": "python3",
      "display_name": "Python 3"
    },
    "language_info": {
      "name": "python"
    }
  },
  "cells": [
    {
      "cell_type": "markdown",
      "metadata": {
        "id": "view-in-github",
        "colab_type": "text"
      },
      "source": [
        "<a href=\"https://colab.research.google.com/github/rehanmehdichandio/Basic-Concepts-of-Python/blob/main/Concepts_of_Python.ipynb\" target=\"_parent\"><img src=\"https://colab.research.google.com/assets/colab-badge.svg\" alt=\"Open In Colab\"/></a>"
      ]
    },
    {
      "cell_type": "markdown",
      "source": [
        "**Print() in Python Day: 1**"
      ],
      "metadata": {
        "id": "d8SubJh2eTXV"
      }
    },
    {
      "cell_type": "code",
      "execution_count": null,
      "metadata": {
        "colab": {
          "base_uri": "https://localhost:8080/"
        },
        "id": "qtsfyRpUeP3f",
        "outputId": "aa64468e-0c9c-4495-9e26-9d97e0a8246c"
      },
      "outputs": [
        {
          "output_type": "stream",
          "name": "stdout",
          "text": [
            "Hello World\n"
          ]
        }
      ],
      "source": [
        "print(\"Hello World\")"
      ]
    },
    {
      "cell_type": "code",
      "source": [
        "print(3.5)"
      ],
      "metadata": {
        "colab": {
          "base_uri": "https://localhost:8080/"
        },
        "id": "KoKAviR1eaVc",
        "outputId": "281dc663-483e-4836-b614-b608e7dd3d41"
      },
      "execution_count": null,
      "outputs": [
        {
          "output_type": "stream",
          "name": "stdout",
          "text": [
            "3.5\n"
          ]
        }
      ]
    },
    {
      "cell_type": "code",
      "source": [
        "print(True)"
      ],
      "metadata": {
        "colab": {
          "base_uri": "https://localhost:8080/"
        },
        "id": "rxGCkvmCetKm",
        "outputId": "b1d6b484-650e-41e9-a8bf-73028934d350"
      },
      "execution_count": null,
      "outputs": [
        {
          "output_type": "stream",
          "name": "stdout",
          "text": [
            "True\n"
          ]
        }
      ]
    },
    {
      "cell_type": "code",
      "source": [
        "print(\"India\", \"Pakistan\", \"Srilanka\", 3, 9.999)"
      ],
      "metadata": {
        "colab": {
          "base_uri": "https://localhost:8080/"
        },
        "id": "NIO1NjUgevkQ",
        "outputId": "314e6726-d438-4bbe-8d41-13dc0d4001c3"
      },
      "execution_count": null,
      "outputs": [
        {
          "output_type": "stream",
          "name": "stdout",
          "text": [
            "India Pakistan Srilanka 3 9.999\n"
          ]
        }
      ]
    },
    {
      "cell_type": "code",
      "source": [
        "print(\"India\", \"Pakistan\", \"Srilanka\", 3, 9.999, sep=\"/\")"
      ],
      "metadata": {
        "colab": {
          "base_uri": "https://localhost:8080/"
        },
        "id": "HUckA_PJeys_",
        "outputId": "ae28dd14-358f-485f-f2c7-73cc28d30b97"
      },
      "execution_count": null,
      "outputs": [
        {
          "output_type": "stream",
          "name": "stdout",
          "text": [
            "India/Pakistan/Srilanka/3/9.999\n"
          ]
        }
      ]
    },
    {
      "cell_type": "code",
      "source": [
        "print(\"India\", \"Pakistan\", \"Srilanka\", 3, 9.999, sep=\"/\", end=\".\")"
      ],
      "metadata": {
        "colab": {
          "base_uri": "https://localhost:8080/"
        },
        "id": "fzdtFCa8fMYA",
        "outputId": "c403c2b1-0022-4ff8-8262-1aaf72be07f4"
      },
      "execution_count": null,
      "outputs": [
        {
          "output_type": "stream",
          "name": "stdout",
          "text": [
            "India/Pakistan/Srilanka/3/9.999."
          ]
        }
      ]
    },
    {
      "cell_type": "code",
      "source": [
        "print(\"India\", \"Pakistan\", \"Srilanka\", 3, 9.999, sep=\"/\", end=\"\\n\")\n",
        "print(\"India\", \"Pakistan\", \"Srilanka\", 3, 9.999, sep=\"/\", end=\"\\n\")"
      ],
      "metadata": {
        "colab": {
          "base_uri": "https://localhost:8080/"
        },
        "id": "EmLrOl-0fTzo",
        "outputId": "bbeb5785-3a48-4070-abaf-14feb7948479"
      },
      "execution_count": null,
      "outputs": [
        {
          "output_type": "stream",
          "name": "stdout",
          "text": [
            "India/Pakistan/Srilanka/3/9.999\n",
            "India/Pakistan/Srilanka/3/9.999\n"
          ]
        }
      ]
    },
    {
      "cell_type": "markdown",
      "source": [
        "**Data Types in Python Day:2**"
      ],
      "metadata": {
        "id": "ghZL2PesflPN"
      }
    },
    {
      "cell_type": "code",
      "source": [
        "#integer"
      ],
      "metadata": {
        "id": "L5fHuJJufbVI"
      },
      "execution_count": null,
      "outputs": []
    },
    {
      "cell_type": "code",
      "source": [
        "print(4)"
      ],
      "metadata": {
        "colab": {
          "base_uri": "https://localhost:8080/"
        },
        "id": "as6Gs3VWf1zc",
        "outputId": "e21f86ed-a37c-42c4-969d-97b0efd83017"
      },
      "execution_count": null,
      "outputs": [
        {
          "output_type": "stream",
          "name": "stdout",
          "text": [
            "4\n"
          ]
        }
      ]
    },
    {
      "cell_type": "code",
      "source": [
        "print(1e309)"
      ],
      "metadata": {
        "colab": {
          "base_uri": "https://localhost:8080/"
        },
        "id": "QXTOtW1Tf2uT",
        "outputId": "0781e4c3-0674-4526-f097-661027d8e706"
      },
      "execution_count": null,
      "outputs": [
        {
          "output_type": "stream",
          "name": "stdout",
          "text": [
            "inf\n"
          ]
        }
      ]
    },
    {
      "cell_type": "code",
      "source": [
        "#float\n",
        "print(2.5)\n",
        "print(1.7e308) #309 is limit"
      ],
      "metadata": {
        "colab": {
          "base_uri": "https://localhost:8080/"
        },
        "id": "S8yNn2Tvf7hg",
        "outputId": "661d54b3-c555-41c6-a4fa-a82f15412fd2"
      },
      "execution_count": null,
      "outputs": [
        {
          "output_type": "stream",
          "name": "stdout",
          "text": [
            "2.5\n",
            "1.7e+308\n"
          ]
        }
      ]
    },
    {
      "cell_type": "code",
      "source": [
        "#complex\n",
        "\n",
        "print(4+5j)"
      ],
      "metadata": {
        "colab": {
          "base_uri": "https://localhost:8080/"
        },
        "id": "2lB86oX1gKIf",
        "outputId": "9949b2a9-c340-4808-e444-c54f809f94b2"
      },
      "execution_count": null,
      "outputs": [
        {
          "output_type": "stream",
          "name": "stdout",
          "text": [
            "(4+5j)\n"
          ]
        }
      ]
    },
    {
      "cell_type": "code",
      "source": [
        "#String\n",
        "print(\"HI\")\n",
        "\n",
        "print('hi')"
      ],
      "metadata": {
        "colab": {
          "base_uri": "https://localhost:8080/"
        },
        "id": "xAXwbMaPgYs1",
        "outputId": "5a21084c-edec-48eb-930b-d4d2c4e84025"
      },
      "execution_count": null,
      "outputs": [
        {
          "output_type": "stream",
          "name": "stdout",
          "text": [
            "HI\n",
            "hi\n"
          ]
        }
      ]
    },
    {
      "cell_type": "code",
      "source": [
        "#list\n",
        "\n",
        "print([1,2,3,4,5])"
      ],
      "metadata": {
        "colab": {
          "base_uri": "https://localhost:8080/"
        },
        "id": "OuF8KND7gk7H",
        "outputId": "450da05c-3868-432f-ae62-b78ea2cdb87f"
      },
      "execution_count": null,
      "outputs": [
        {
          "output_type": "stream",
          "name": "stdout",
          "text": [
            "[1, 2, 3, 4, 5]\n"
          ]
        }
      ]
    },
    {
      "cell_type": "code",
      "source": [
        "x=[1,2,3]\n",
        "y=x\n",
        "y[1]=4\n",
        "print(x)\n",
        "print(y)"
      ],
      "metadata": {
        "colab": {
          "base_uri": "https://localhost:8080/"
        },
        "id": "qXmKAbw2gxQ2",
        "outputId": "1133e648-f6b5-44e3-b1aa-0335643b42ca"
      },
      "execution_count": null,
      "outputs": [
        {
          "output_type": "stream",
          "name": "stdout",
          "text": [
            "[1, 4, 3]\n",
            "[1, 4, 3]\n"
          ]
        }
      ]
    },
    {
      "cell_type": "code",
      "source": [
        "#touple\n",
        "print((1,2,3,4))"
      ],
      "metadata": {
        "colab": {
          "base_uri": "https://localhost:8080/"
        },
        "id": "HZf_Ud4Kg23v",
        "outputId": "1d950852-a0bc-4098-cacb-8181861bcc71"
      },
      "execution_count": null,
      "outputs": [
        {
          "output_type": "stream",
          "name": "stdout",
          "text": [
            "(1, 2, 3, 4)\n"
          ]
        }
      ]
    },
    {
      "cell_type": "code",
      "source": [
        "#sets\n",
        "\n",
        "print({1,2,3})"
      ],
      "metadata": {
        "colab": {
          "base_uri": "https://localhost:8080/"
        },
        "id": "gbnxjWWRhJ7X",
        "outputId": "dc61dd1a-6545-4af5-c803-1acc98792c4e"
      },
      "execution_count": null,
      "outputs": [
        {
          "output_type": "stream",
          "name": "stdout",
          "text": [
            "{1, 2, 3}\n"
          ]
        }
      ]
    },
    {
      "cell_type": "code",
      "source": [
        "#dictionary\n",
        "\n",
        "print({\"Name\": \"Rehan\", \"Age\":23, \"Caste\": \"Chandio\"})"
      ],
      "metadata": {
        "colab": {
          "base_uri": "https://localhost:8080/"
        },
        "id": "798Xsc_ahNPJ",
        "outputId": "f076d71d-5532-4526-af13-298fbefe4450"
      },
      "execution_count": null,
      "outputs": [
        {
          "output_type": "stream",
          "name": "stdout",
          "text": [
            "{'Name': 'Rehan', 'Age': 23, 'Caste': 'Chandio'}\n"
          ]
        }
      ]
    },
    {
      "cell_type": "markdown",
      "source": [
        "**Comments in Python Day3**"
      ],
      "metadata": {
        "id": "cwAkHy6yhhn9"
      }
    },
    {
      "cell_type": "code",
      "source": [
        "#Comments\n",
        "#Declare two variables and add both of them\n",
        "a=5\n",
        "b=7\n",
        "print(a+b)"
      ],
      "metadata": {
        "colab": {
          "base_uri": "https://localhost:8080/"
        },
        "id": "whYCe3dUhebd",
        "outputId": "3566b939-ac8c-41b0-b79c-da005071f6a2"
      },
      "execution_count": null,
      "outputs": [
        {
          "output_type": "stream",
          "name": "stdout",
          "text": [
            "12\n"
          ]
        }
      ]
    },
    {
      "cell_type": "markdown",
      "source": [
        "**Variables in Python Day:4**"
      ],
      "metadata": {
        "id": "obNRRMZ1h36Y"
      }
    },
    {
      "cell_type": "code",
      "source": [
        "#variables\n",
        "\n",
        "name = 'Rehan'\n",
        "print(name)"
      ],
      "metadata": {
        "colab": {
          "base_uri": "https://localhost:8080/"
        },
        "id": "wI28rvQ3hvdS",
        "outputId": "1c20a477-6fce-4573-fb08-63d36813e3b9"
      },
      "execution_count": null,
      "outputs": [
        {
          "output_type": "stream",
          "name": "stdout",
          "text": [
            "Rehan\n"
          ]
        }
      ]
    },
    {
      "cell_type": "code",
      "source": [
        "name = 4\n",
        "\n",
        "print(name)"
      ],
      "metadata": {
        "colab": {
          "base_uri": "https://localhost:8080/"
        },
        "id": "Hk0Y2taPibLQ",
        "outputId": "7248f330-1047-4e91-eef5-96dadde92577"
      },
      "execution_count": null,
      "outputs": [
        {
          "output_type": "stream",
          "name": "stdout",
          "text": [
            "4\n"
          ]
        }
      ]
    },
    {
      "cell_type": "code",
      "source": [
        "#Dynamic Typing: No declaring the type of Data\n",
        "#Static Typing: Declrating the data type"
      ],
      "metadata": {
        "id": "Yo7Sya0jifm2"
      },
      "execution_count": null,
      "outputs": []
    },
    {
      "cell_type": "code",
      "source": [
        "#special syntax\n",
        "\n",
        "a=5; b=6; c=7\n",
        "print(a)\n",
        "print(b)\n",
        "print(c)"
      ],
      "metadata": {
        "colab": {
          "base_uri": "https://localhost:8080/"
        },
        "id": "lI8tMXbUitl0",
        "outputId": "6db7a3c3-9fc7-402e-bfde-8391211eb9b9"
      },
      "execution_count": null,
      "outputs": [
        {
          "output_type": "stream",
          "name": "stdout",
          "text": [
            "5\n",
            "6\n",
            "7\n"
          ]
        }
      ]
    },
    {
      "cell_type": "code",
      "source": [
        "a,b,c=4,5,6\n",
        "print(a)\n",
        "print(b)\n",
        "print(c)"
      ],
      "metadata": {
        "colab": {
          "base_uri": "https://localhost:8080/"
        },
        "id": "JTWp094DjPjr",
        "outputId": "4ddddb80-b6af-4ea3-edd3-12bebdf2b0e4"
      },
      "execution_count": null,
      "outputs": [
        {
          "output_type": "stream",
          "name": "stdout",
          "text": [
            "4\n",
            "5\n",
            "6\n"
          ]
        }
      ]
    },
    {
      "cell_type": "markdown",
      "source": [
        "**Identifiers and Keywords in Python Day:5**"
      ],
      "metadata": {
        "id": "FFJKVdcPjeaW"
      }
    },
    {
      "cell_type": "markdown",
      "source": [
        "Keywords:\n",
        "   Reserved words of the programming language which can't be used as a variable."
      ],
      "metadata": {
        "id": "9xr_bB2oklmx"
      }
    },
    {
      "cell_type": "code",
      "source": [
        "#Keyword:\n",
        "\n",
        "import keyword\n",
        "print(keyword.kwlist)"
      ],
      "metadata": {
        "colab": {
          "base_uri": "https://localhost:8080/"
        },
        "id": "Pkk4MlLyjU-N",
        "outputId": "e9fcc98d-cbba-48dd-e963-0128e442734b"
      },
      "execution_count": null,
      "outputs": [
        {
          "output_type": "stream",
          "name": "stdout",
          "text": [
            "['False', 'None', 'True', 'and', 'as', 'assert', 'async', 'await', 'break', 'class', 'continue', 'def', 'del', 'elif', 'else', 'except', 'finally', 'for', 'from', 'global', 'if', 'import', 'in', 'is', 'lambda', 'nonlocal', 'not', 'or', 'pass', 'raise', 'return', 'try', 'while', 'with', 'yield']\n"
          ]
        }
      ]
    },
    {
      "cell_type": "markdown",
      "source": [
        "Identifiers:\n",
        "\n",
        "A python indentifier is a name used to identify a variable, function, class, module or other objects.\n",
        "\n",
        "\n",
        "\n",
        "*   Can only Start with an alphabet or _\n",
        "*   Followed by 0 or more letters, _ and digits\n",
        "*   Keywords cannot be used as an identifier\n",
        "\n",
        "\n",
        "\n",
        "\n"
      ],
      "metadata": {
        "id": "KFsBJVkTkzo1"
      }
    },
    {
      "cell_type": "code",
      "source": [
        "name = 'Rehan'\n",
        "print(name)"
      ],
      "metadata": {
        "colab": {
          "base_uri": "https://localhost:8080/"
        },
        "id": "zAXgbi3Fj5QF",
        "outputId": "1d3a006b-cefc-46ad-9947-3a91f50a4d27"
      },
      "execution_count": null,
      "outputs": [
        {
          "output_type": "stream",
          "name": "stdout",
          "text": [
            "Rehan\n"
          ]
        }
      ]
    },
    {
      "cell_type": "code",
      "source": [
        "_=4;\n",
        "print(_)"
      ],
      "metadata": {
        "colab": {
          "base_uri": "https://localhost:8080/"
        },
        "id": "LCt1rI2KmFB8",
        "outputId": "7c45184f-ce8c-47ee-ef6c-0e0ca823a3b4"
      },
      "execution_count": null,
      "outputs": [
        {
          "output_type": "stream",
          "name": "stdout",
          "text": [
            "4\n"
          ]
        }
      ]
    },
    {
      "cell_type": "code",
      "source": [
        "First_Name= 'Rehan'\n",
        "print(First_Name)"
      ],
      "metadata": {
        "colab": {
          "base_uri": "https://localhost:8080/"
        },
        "id": "8G6gMYypmICI",
        "outputId": "73907cf1-c908-41b6-951d-4887000f38a0"
      },
      "execution_count": null,
      "outputs": [
        {
          "output_type": "stream",
          "name": "stdout",
          "text": [
            "Rehan\n"
          ]
        }
      ]
    },
    {
      "cell_type": "markdown",
      "source": [
        "**User-Input and Type Conversion Day:06**"
      ],
      "metadata": {
        "id": "n7LBa1YVmxnk"
      }
    },
    {
      "cell_type": "code",
      "source": [
        "input('Name:')"
      ],
      "metadata": {
        "colab": {
          "base_uri": "https://localhost:8080/",
          "height": 52
        },
        "id": "laLpzh9umaRK",
        "outputId": "b7c923d1-8592-4281-b3f1-ab0982887e5f"
      },
      "execution_count": null,
      "outputs": [
        {
          "name": "stdout",
          "output_type": "stream",
          "text": [
            "Name:Rehan Mehdi\n"
          ]
        },
        {
          "output_type": "execute_result",
          "data": {
            "text/plain": [
              "'Rehan Mehdi'"
            ],
            "application/vnd.google.colaboratory.intrinsic+json": {
              "type": "string"
            }
          },
          "metadata": {},
          "execution_count": 56
        }
      ]
    },
    {
      "cell_type": "code",
      "source": [
        "first_num = input('Enter the first number:')\n",
        "second_num = input('Enter the second number')\n",
        "\n"
      ],
      "metadata": {
        "colab": {
          "base_uri": "https://localhost:8080/"
        },
        "id": "rukyjj_NnOVW",
        "outputId": "b4c0d1ed-93d7-4d7c-cd03-362c4ac58265"
      },
      "execution_count": null,
      "outputs": [
        {
          "name": "stdout",
          "output_type": "stream",
          "text": [
            "Enter the first number:5\n",
            "Enter the second number4\n"
          ]
        }
      ]
    },
    {
      "cell_type": "code",
      "source": [
        "print(first_num)\n",
        "print(second_num)"
      ],
      "metadata": {
        "colab": {
          "base_uri": "https://localhost:8080/"
        },
        "id": "HTEkZenGn2tp",
        "outputId": "cb8f618d-d732-4438-f0bd-0cc4735dc803"
      },
      "execution_count": null,
      "outputs": [
        {
          "output_type": "stream",
          "name": "stdout",
          "text": [
            "5\n",
            "4\n"
          ]
        }
      ]
    },
    {
      "cell_type": "code",
      "source": [
        "result = first_num + second_num\n",
        "\n",
        "print(result)"
      ],
      "metadata": {
        "colab": {
          "base_uri": "https://localhost:8080/"
        },
        "id": "DCZ5xRN3n6O8",
        "outputId": "275b1695-a084-487a-e28d-7e1894a7801f"
      },
      "execution_count": null,
      "outputs": [
        {
          "output_type": "stream",
          "name": "stdout",
          "text": [
            "54\n"
          ]
        }
      ]
    },
    {
      "cell_type": "code",
      "source": [
        "type(result)"
      ],
      "metadata": {
        "colab": {
          "base_uri": "https://localhost:8080/"
        },
        "id": "sspZMGaQoAeR",
        "outputId": "fef53b1e-2298-4284-c6e0-2beb5bb518ed"
      },
      "execution_count": null,
      "outputs": [
        {
          "output_type": "execute_result",
          "data": {
            "text/plain": [
              "str"
            ]
          },
          "metadata": {},
          "execution_count": 60
        }
      ]
    },
    {
      "cell_type": "code",
      "source": [
        "#Type Conversion --> Not a permenant Operation\n",
        "#implicit --> Automatic type conversion by python\n",
        "#explicit --> Programmer does himself"
      ],
      "metadata": {
        "id": "2HAtRx4MoK7i"
      },
      "execution_count": null,
      "outputs": []
    },
    {
      "cell_type": "code",
      "source": [
        "#implicit\n",
        "5+5.5+5+5j"
      ],
      "metadata": {
        "colab": {
          "base_uri": "https://localhost:8080/"
        },
        "id": "BETm0vbvo5aB",
        "outputId": "9079eb59-5fc4-4f1e-d554-2c5369984212"
      },
      "execution_count": null,
      "outputs": [
        {
          "output_type": "execute_result",
          "data": {
            "text/plain": [
              "(15.5+5j)"
            ]
          },
          "metadata": {},
          "execution_count": 62
        }
      ]
    },
    {
      "cell_type": "code",
      "source": [
        "#explicit\n",
        "\n",
        "int(first_num)\n",
        "print(first_num)\n",
        "type(first_num)"
      ],
      "metadata": {
        "colab": {
          "base_uri": "https://localhost:8080/"
        },
        "id": "M_foJJlNpBEK",
        "outputId": "c50d6816-e83a-4e46-d0ab-cc5c62f3372f"
      },
      "execution_count": null,
      "outputs": [
        {
          "output_type": "stream",
          "name": "stdout",
          "text": [
            "5\n"
          ]
        },
        {
          "output_type": "execute_result",
          "data": {
            "text/plain": [
              "str"
            ]
          },
          "metadata": {},
          "execution_count": 66
        }
      ]
    },
    {
      "cell_type": "code",
      "source": [
        "first_num = input('Enter the first number:')\n",
        "second_num = input('Enter the second number')\n",
        "\n",
        "result = int(first_num) + int(second_num)\n",
        "\n",
        "print(result)"
      ],
      "metadata": {
        "colab": {
          "base_uri": "https://localhost:8080/"
        },
        "id": "yxfzlTpQpNkn",
        "outputId": "68ff5950-8ae1-4a9b-abd4-2d0945ca1cfb"
      },
      "execution_count": null,
      "outputs": [
        {
          "output_type": "stream",
          "name": "stdout",
          "text": [
            "Enter the first number:5\n",
            "Enter the second number5\n",
            "10\n"
          ]
        }
      ]
    },
    {
      "cell_type": "markdown",
      "source": [
        "**Literals in Python Day07**\n",
        "\n",
        "  literal basically a raw data given in a varibale in Python. There are various types of Literals"
      ],
      "metadata": {
        "id": "sj1POVEMe1k0"
      }
    },
    {
      "cell_type": "markdown",
      "source": [
        "Numeric Literals"
      ],
      "metadata": {
        "id": "MOLdWXScfMYR"
      }
    },
    {
      "cell_type": "code",
      "source": [
        "a = 0b1010  #Binary Literals\n",
        "b=100   #Decimal Literals\n",
        "c=0o310   #Octal Literals\n",
        "d=0x12c   #Hexadecimal literals\n",
        "print(a)\n",
        "print(b)\n",
        "print(c)\n",
        "print(d)"
      ],
      "metadata": {
        "id": "9uThX_0Fpre4",
        "colab": {
          "base_uri": "https://localhost:8080/"
        },
        "outputId": "e5a8e1dc-c0fd-44c3-c88c-b915649f93a1"
      },
      "execution_count": null,
      "outputs": [
        {
          "output_type": "stream",
          "name": "stdout",
          "text": [
            "10\n",
            "100\n",
            "200\n",
            "300\n"
          ]
        }
      ]
    },
    {
      "cell_type": "markdown",
      "source": [
        "String Literals"
      ],
      "metadata": {
        "id": "GmVb1wQmgDqM"
      }
    },
    {
      "cell_type": "code",
      "source": [
        "string = 'This is python'\n",
        "strings = \"This is Python\"\n",
        "char = \"C\"\n",
        "multiliner = \"\"\"This is multiline string with more than one line of code\"\"\""
      ],
      "metadata": {
        "id": "KOUPLP4kfjpL"
      },
      "execution_count": null,
      "outputs": []
    },
    {
      "cell_type": "code",
      "source": [
        "print(string)\n",
        "print(strings)\n",
        "print(char)\n",
        "print(multiliner)"
      ],
      "metadata": {
        "colab": {
          "base_uri": "https://localhost:8080/"
        },
        "id": "7AQtfrhPgPjm",
        "outputId": "e3dcf7bd-304d-481c-f6cf-0febb0f71804"
      },
      "execution_count": null,
      "outputs": [
        {
          "output_type": "stream",
          "name": "stdout",
          "text": [
            "This is python\n",
            "This is Python\n",
            "C\n",
            "This is multiline string with more than one line of code\n"
          ]
        }
      ]
    },
    {
      "cell_type": "markdown",
      "source": [
        "**Operator in Python Day:8**\n",
        "\n",
        "\n",
        "*   Arithmetic operators\n",
        "*   Comparision operators\n",
        "*   Logical Operator\n",
        "*   Bitwise Operators\n",
        "*   Assignment Operators\n",
        "*   Identity Operator\n",
        "*   Membership Operator\n",
        "\n",
        "\n",
        "\n"
      ],
      "metadata": {
        "id": "MYKk8OlnhLh7"
      }
    },
    {
      "cell_type": "code",
      "source": [
        "#Arithmatic\n",
        "\n",
        "x = 5\n",
        "y = 2\n",
        "\n",
        "print(\"This addition: \", x+y)\n",
        "print(\"This substraction: \", x-y)\n",
        "print(\"This Multiplication: \", x*y)\n",
        "print(\"This Division: \", x/y)\n",
        "print(\"This Modulus: \", x%y)\n",
        "print(\"This Exponent: \", x**y)\n",
        "print(\"This Floor Division: \", x//y)\n"
      ],
      "metadata": {
        "colab": {
          "base_uri": "https://localhost:8080/"
        },
        "id": "DU29sPQcgmJE",
        "outputId": "6440673b-1b45-49d5-8c46-60ce95fd6c6a"
      },
      "execution_count": null,
      "outputs": [
        {
          "output_type": "stream",
          "name": "stdout",
          "text": [
            "This addition:  7\n",
            "This substraction:  3\n",
            "This Multiplication:  10\n",
            "This Division:  2.5\n",
            "This Modulus:  1\n",
            "This Exponent:  25\n",
            "This Floor Division:  2\n"
          ]
        }
      ]
    },
    {
      "cell_type": "code",
      "source": [
        "#Comparision Operators\n",
        "print(\"Result of equal to operator is: \", x==y)\n",
        "print(\"Result of greater than operator is: \",x>y)\n",
        "print(\"Result of less than operator is: \",x<y)\n",
        "print(\"Result of not equals to operator is: \",x!=y)\n",
        "print(\"Result of greater than and equals to operator is: \",x>=y)\n",
        "print(\"Result of less than and equals to operator is: \",x<=y)\n"
      ],
      "metadata": {
        "colab": {
          "base_uri": "https://localhost:8080/"
        },
        "id": "0GORwr-KiH3m",
        "outputId": "d78f6661-31a2-4937-e52f-5261408ce840"
      },
      "execution_count": null,
      "outputs": [
        {
          "output_type": "stream",
          "name": "stdout",
          "text": [
            "Result of equal to operator is:  False\n",
            "Result of greater than operator is:  True\n",
            "Result of less than operator is:  False\n",
            "Result of not equals to operator is:  True\n",
            "Result of greater than and equals to operator is:  True\n",
            "Result of less than and equals to operator is:  False\n"
          ]
        }
      ]
    },
    {
      "cell_type": "code",
      "source": [
        "#logical Operators\n",
        "\n",
        "x = True\n",
        "y = False\n",
        "\n",
        "print(\"Result of and operator is: \",x and y)\n",
        "print(\"Result of or operator is: \",x or y)\n",
        "print(\"Result of not operator is: \",not y)"
      ],
      "metadata": {
        "colab": {
          "base_uri": "https://localhost:8080/"
        },
        "id": "f7SLvH3Pievw",
        "outputId": "746c7443-1fc5-46a5-fbed-b2ccaff289dc"
      },
      "execution_count": null,
      "outputs": [
        {
          "output_type": "stream",
          "name": "stdout",
          "text": [
            "Result of and operator is:  False\n",
            "Result of or operator is:  True\n",
            "Result of not operator is:  True\n"
          ]
        }
      ]
    },
    {
      "cell_type": "code",
      "source": [
        "#bitwise operators  and operator will be performed on binary\n",
        "\n",
        "x=2\n",
        "y=3\n",
        "print(x & y)\n",
        "\n",
        "# 2 = 010\n",
        "# 3 = 110\n",
        "#---------\n",
        "#     010 =2"
      ],
      "metadata": {
        "colab": {
          "base_uri": "https://localhost:8080/"
        },
        "id": "vq_x-CZIi-Qo",
        "outputId": "cae2f6ab-23c4-4692-f240-5e8d8f1e90cf"
      },
      "execution_count": null,
      "outputs": [
        {
          "output_type": "stream",
          "name": "stdout",
          "text": [
            "2\n"
          ]
        }
      ]
    },
    {
      "cell_type": "code",
      "source": [
        "print(x|y) #or operator will be performed on binary\n",
        "# 2 = 010\n",
        "# 3 = 110\n",
        "#---------\n",
        "#     010 =2"
      ],
      "metadata": {
        "colab": {
          "base_uri": "https://localhost:8080/"
        },
        "id": "F2-Y6vlIjJ6x",
        "outputId": "4efc7f5b-1d86-4ae6-e18f-aa6dce8e9963"
      },
      "execution_count": null,
      "outputs": [
        {
          "output_type": "stream",
          "name": "stdout",
          "text": [
            "3\n"
          ]
        }
      ]
    },
    {
      "cell_type": "code",
      "source": [
        "#Assignemnt operator\n",
        "\n",
        "x=2\n",
        "print(x)\n",
        "x +=3\n",
        "print(x)\n",
        "x = x+3\n",
        "print(x)\n",
        "\n",
        "#increment and decrement operator is not used in python (a++ or ++a)"
      ],
      "metadata": {
        "colab": {
          "base_uri": "https://localhost:8080/"
        },
        "id": "PSpbpBS2jfSn",
        "outputId": "138cdabb-8828-4921-b844-4c97c3de0344"
      },
      "execution_count": null,
      "outputs": [
        {
          "output_type": "stream",
          "name": "stdout",
          "text": [
            "2\n",
            "5\n",
            "8\n"
          ]
        }
      ]
    },
    {
      "cell_type": "code",
      "source": [
        "#identity operators     two or more variables having same value and same memroy\n",
        "\n",
        "a = \"Hello\"\n",
        "b = \"Hello\"\n",
        "print(a is b)\n",
        "\n",
        "a = 5\n",
        "b = 5\n",
        "print(a is b)\n",
        "\n",
        "\n",
        "a = [1,2,3]\n",
        "b = [1,2,3]\n",
        "print(a is b)\n",
        "\n",
        "\n",
        "#Having same values only does not specify the problem it should\n",
        "#be on the same memory as well\n"
      ],
      "metadata": {
        "colab": {
          "base_uri": "https://localhost:8080/"
        },
        "id": "WmWFUyvakGb-",
        "outputId": "f90adde1-670d-4651-c95c-af53dce8d59d"
      },
      "execution_count": null,
      "outputs": [
        {
          "output_type": "stream",
          "name": "stdout",
          "text": [
            "True\n",
            "True\n",
            "False\n"
          ]
        }
      ]
    },
    {
      "cell_type": "code",
      "source": [
        "#Membership Operator\n",
        "\n",
        "x = \"Delhi\"\n",
        "\n",
        "print(\"D\" in x)\n",
        "\n",
        "x = [1,2,3]\n",
        "print(1 in x)\n",
        "print(2 not in x)"
      ],
      "metadata": {
        "colab": {
          "base_uri": "https://localhost:8080/"
        },
        "id": "GFGeF-6Wku4o",
        "outputId": "4534d98e-f3ea-4ff0-a3ef-ada8102e922d"
      },
      "execution_count": null,
      "outputs": [
        {
          "output_type": "stream",
          "name": "stdout",
          "text": [
            "True\n",
            "True\n",
            "False\n"
          ]
        }
      ]
    },
    {
      "cell_type": "markdown",
      "source": [
        "**Decision Control Statements Day09**\n"
      ],
      "metadata": {
        "id": "I7AwLcinlpEJ"
      }
    },
    {
      "cell_type": "code",
      "source": [
        "#Correct emial is rehan@gmail.com\n",
        "#Correct password is 1234\n",
        "email = input(\"Enter you email\");\n",
        "password = input(\"Enter your password\");\n",
        "\n",
        "if email == \"rehan@gmail.com\" and password == \"1234\":\n",
        "  print(\"Welcome\")\n",
        "\n",
        "else:\n",
        "  print(\"Incorrect email or password\")"
      ],
      "metadata": {
        "colab": {
          "base_uri": "https://localhost:8080/"
        },
        "id": "-YhDf5SalaWf",
        "outputId": "48ee2775-039e-42ef-8234-f68ae4a1538d"
      },
      "execution_count": null,
      "outputs": [
        {
          "output_type": "stream",
          "name": "stdout",
          "text": [
            "Enter you emailrehan@yahoo.com\n",
            "Enter your password1234\n",
            "Incorrect email or password\n"
          ]
        }
      ]
    },
    {
      "cell_type": "markdown",
      "source": [
        "**Indentation and If-else statements Day10**\n",
        "\n",
        "indentation increases code readability, use tab"
      ],
      "metadata": {
        "id": "qRIBZAiPq8Oq"
      }
    },
    {
      "cell_type": "code",
      "source": [
        "#In Python there are two loops\n",
        "\n",
        "#While loop\n",
        "#For loop"
      ],
      "metadata": {
        "id": "2eKjpdJwmUjw"
      },
      "execution_count": 2,
      "outputs": []
    },
    {
      "cell_type": "code",
      "source": [
        "#While Loop\n",
        "\n",
        "number = int(input(\"Enter the number\"))\n",
        "i = 1\n",
        "\n",
        "while i<11:\n",
        "  print(number, \"x\", i,\"=\", number*i)\n",
        "  i+=1"
      ],
      "metadata": {
        "colab": {
          "base_uri": "https://localhost:8080/"
        },
        "id": "UW6_GGMetFBB",
        "outputId": "f0f8057a-729e-4b7a-e47e-49e1cc02903b"
      },
      "execution_count": 6,
      "outputs": [
        {
          "output_type": "stream",
          "name": "stdout",
          "text": [
            "Enter the number9\n",
            "9 x 1 = 9\n",
            "9 x 2 = 18\n",
            "9 x 3 = 27\n",
            "9 x 4 = 36\n",
            "9 x 5 = 45\n",
            "9 x 6 = 54\n",
            "9 x 7 = 63\n",
            "9 x 8 = 72\n",
            "9 x 9 = 81\n",
            "9 x 10 = 90\n"
          ]
        }
      ]
    },
    {
      "cell_type": "code",
      "source": [
        "#Tic Tac Toe Game\n",
        "import random\n",
        "jackpot = random.randint(1,100)\n",
        "Guess_Numer = int(input(\"Guess kr\"))\n",
        "counter = 1\n",
        "while Guess_Numer != jackpot:\n",
        "  if Guess_Numer < jackpot:\n",
        "    print(\"Guess higher\")\n",
        "  else:\n",
        "    print(\"Guess lower\")\n",
        "  Guess_Numer = int(input(\"Guess kr\"))\n",
        "  counter += 1\n",
        "\n",
        "\n",
        "print(\"Correct Guess\")\n",
        "print(\"You took\", counter, \"attempts\")\n"
      ],
      "metadata": {
        "colab": {
          "base_uri": "https://localhost:8080/"
        },
        "id": "A2hTO5Yytgab",
        "outputId": "8cd4db7d-beeb-43b9-9c11-09a02b8fa654"
      },
      "execution_count": 8,
      "outputs": [
        {
          "output_type": "stream",
          "name": "stdout",
          "text": [
            "Guess kr70\n",
            "Guess lower\n",
            "Guess kr30\n",
            "Guess higher\n",
            "Guess kr40\n",
            "Guess higher\n",
            "Guess kr50\n",
            "Guess lower\n",
            "Guess kr57\n",
            "Guess lower\n",
            "Guess kr47\n",
            "Guess lower\n",
            "Guess kr43\n",
            "Guess higher\n",
            "Guess kr45\n",
            "Guess higher\n",
            "Guess kr46\n",
            "Correct Guess\n",
            "You took 9 attempts\n"
          ]
        }
      ]
    },
    {
      "cell_type": "markdown",
      "source": [
        "**For Loop**"
      ],
      "metadata": {
        "id": "nZV4k8InwWaR"
      }
    },
    {
      "cell_type": "code",
      "source": [
        "#Range Function\n",
        "\n",
        "range(1,11)"
      ],
      "metadata": {
        "colab": {
          "base_uri": "https://localhost:8080/"
        },
        "id": "noD_DiJYu5np",
        "outputId": "862d1698-fee9-47fe-fc7f-74f46e6c74f8"
      },
      "execution_count": 9,
      "outputs": [
        {
          "output_type": "execute_result",
          "data": {
            "text/plain": [
              "range(1, 11)"
            ]
          },
          "metadata": {},
          "execution_count": 9
        }
      ]
    },
    {
      "cell_type": "code",
      "source": [
        "list(range(1,11))"
      ],
      "metadata": {
        "colab": {
          "base_uri": "https://localhost:8080/"
        },
        "id": "okvSxucXwi7F",
        "outputId": "8b3d106a-63ef-4e6a-ebde-7c7c0be4ab5c"
      },
      "execution_count": 10,
      "outputs": [
        {
          "output_type": "execute_result",
          "data": {
            "text/plain": [
              "[1, 2, 3, 4, 5, 6, 7, 8, 9, 10]"
            ]
          },
          "metadata": {},
          "execution_count": 10
        }
      ]
    },
    {
      "cell_type": "code",
      "source": [
        "for i in range(10,0,-1):\n",
        "  print(i)"
      ],
      "metadata": {
        "colab": {
          "base_uri": "https://localhost:8080/"
        },
        "id": "6kecx5JHwliz",
        "outputId": "cc73b574-4daf-48b4-d180-a7daf2feef11"
      },
      "execution_count": 14,
      "outputs": [
        {
          "output_type": "stream",
          "name": "stdout",
          "text": [
            "10\n",
            "9\n",
            "8\n",
            "7\n",
            "6\n",
            "5\n",
            "4\n",
            "3\n",
            "2\n",
            "1\n"
          ]
        }
      ]
    },
    {
      "cell_type": "code",
      "source": [
        "for i in (1,2,3,4):\n",
        "  print(i)"
      ],
      "metadata": {
        "colab": {
          "base_uri": "https://localhost:8080/"
        },
        "id": "SMoiwXUGwxWU",
        "outputId": "cb923195-458a-4c16-a621-8fee36136465"
      },
      "execution_count": 16,
      "outputs": [
        {
          "output_type": "stream",
          "name": "stdout",
          "text": [
            "1\n",
            "2\n",
            "3\n",
            "4\n"
          ]
        }
      ]
    },
    {
      "cell_type": "markdown",
      "source": [
        "**Nested Loop**"
      ],
      "metadata": {
        "id": "SU4js6Yhxphk"
      }
    },
    {
      "cell_type": "code",
      "source": [
        "#*\n",
        "#**\n",
        "#***\n",
        "#****\n",
        "#*****"
      ],
      "metadata": {
        "id": "HE-ntoXCxMsq"
      },
      "execution_count": 17,
      "outputs": []
    },
    {
      "cell_type": "code",
      "source": [
        "rows = int(input(\"Enter number of rows\"));\n",
        "\n",
        "for i in range(1, rows+1):\n",
        "    for j in range(0,i):\n",
        "        print(\"*\", end= \" \")\n",
        "    print(\"\")"
      ],
      "metadata": {
        "colab": {
          "base_uri": "https://localhost:8080/"
        },
        "id": "7N33j6iUx8IZ",
        "outputId": "852be83f-0f96-4a00-e1bb-33c9fdc06cc6"
      },
      "execution_count": 19,
      "outputs": [
        {
          "output_type": "stream",
          "name": "stdout",
          "text": [
            "Enter number of rows6\n",
            "* \n",
            "* * \n",
            "* * * \n",
            "* * * * \n",
            "* * * * * \n",
            "* * * * * * \n"
          ]
        }
      ]
    },
    {
      "cell_type": "markdown",
      "source": [
        "**Break and Continue**"
      ],
      "metadata": {
        "id": "jgHQknEzzOaZ"
      }
    },
    {
      "cell_type": "code",
      "source": [
        "for i in range (1, 11):\n",
        "  if i==5:\n",
        "    break\n",
        "  print(i)"
      ],
      "metadata": {
        "colab": {
          "base_uri": "https://localhost:8080/"
        },
        "id": "_Wtkl2dtyeYj",
        "outputId": "1d4b3697-add3-4559-f384-19f02be241db"
      },
      "execution_count": 20,
      "outputs": [
        {
          "output_type": "stream",
          "name": "stdout",
          "text": [
            "1\n",
            "2\n",
            "3\n",
            "4\n"
          ]
        }
      ]
    },
    {
      "cell_type": "code",
      "source": [
        "for i in range(1,11):\n",
        "  if i==5:\n",
        "    continue\n",
        "  print(i)"
      ],
      "metadata": {
        "colab": {
          "base_uri": "https://localhost:8080/"
        },
        "id": "hFT8HzU7zgV6",
        "outputId": "c0aeab98-a01f-459e-f011-3cb34b964a1b"
      },
      "execution_count": 21,
      "outputs": [
        {
          "output_type": "stream",
          "name": "stdout",
          "text": [
            "1\n",
            "2\n",
            "3\n",
            "4\n",
            "6\n",
            "7\n",
            "8\n",
            "9\n",
            "10\n"
          ]
        }
      ]
    },
    {
      "cell_type": "markdown",
      "source": [
        "**Built-in Function**"
      ],
      "metadata": {
        "id": "XnOyycOv01Ts"
      }
    },
    {
      "cell_type": "code",
      "source": [
        "#Print\n",
        "#used for printing/displaying\n",
        "\n",
        "print('hello')"
      ],
      "metadata": {
        "colab": {
          "base_uri": "https://localhost:8080/"
        },
        "id": "L9SB3XFF0Dkr",
        "outputId": "5db80b61-fb4b-4f54-f151-62dc453d012e"
      },
      "execution_count": 26,
      "outputs": [
        {
          "output_type": "stream",
          "name": "stdout",
          "text": [
            "hello\n"
          ]
        }
      ]
    },
    {
      "cell_type": "code",
      "source": [
        "#input\n",
        "#Takes input from user\n",
        "\n",
        "name = input('Enter your name')"
      ],
      "metadata": {
        "colab": {
          "base_uri": "https://localhost:8080/"
        },
        "id": "3v88zl120783",
        "outputId": "4fdf090c-3c72-4a82-de06-ba4c1b9a7dd9"
      },
      "execution_count": 29,
      "outputs": [
        {
          "name": "stdout",
          "output_type": "stream",
          "text": [
            "Enter your namerehan\n"
          ]
        }
      ]
    },
    {
      "cell_type": "code",
      "source": [
        "#type\n",
        "#Tells the type of data\n",
        "\n",
        "type(name)"
      ],
      "metadata": {
        "colab": {
          "base_uri": "https://localhost:8080/"
        },
        "id": "r7lJs-Wj08_q",
        "outputId": "13d56add-c0cb-4bd3-8ff6-8229278b6208"
      },
      "execution_count": 30,
      "outputs": [
        {
          "output_type": "execute_result",
          "data": {
            "text/plain": [
              "str"
            ]
          },
          "metadata": {},
          "execution_count": 30
        }
      ]
    },
    {
      "cell_type": "code",
      "source": [
        "#int etc.\n",
        "int(5.6)\n",
        "#float\n",
        "#list\n",
        "#tuple"
      ],
      "metadata": {
        "colab": {
          "base_uri": "https://localhost:8080/"
        },
        "id": "yQucIIQJ09lg",
        "outputId": "0cb31765-7285-4930-fa71-40585678b40e"
      },
      "execution_count": 34,
      "outputs": [
        {
          "output_type": "execute_result",
          "data": {
            "text/plain": [
              "5"
            ]
          },
          "metadata": {},
          "execution_count": 34
        }
      ]
    },
    {
      "cell_type": "code",
      "source": [
        "#abs--> Modulus fucntion\n",
        "\n",
        "abs(-4)"
      ],
      "metadata": {
        "colab": {
          "base_uri": "https://localhost:8080/"
        },
        "id": "lO_Kr-fj0_OJ",
        "outputId": "35b0727b-7ac1-4581-bca2-2c134f510416"
      },
      "execution_count": 35,
      "outputs": [
        {
          "output_type": "execute_result",
          "data": {
            "text/plain": [
              "4"
            ]
          },
          "metadata": {},
          "execution_count": 35
        }
      ]
    },
    {
      "cell_type": "code",
      "source": [
        "#pow\n",
        "\n",
        "pow(3,5)"
      ],
      "metadata": {
        "colab": {
          "base_uri": "https://localhost:8080/"
        },
        "id": "yAGb8a-E1jbg",
        "outputId": "5f974ba7-d880-42af-d216-66503292317f"
      },
      "execution_count": 36,
      "outputs": [
        {
          "output_type": "execute_result",
          "data": {
            "text/plain": [
              "243"
            ]
          },
          "metadata": {},
          "execution_count": 36
        }
      ]
    },
    {
      "cell_type": "code",
      "source": [
        "#min/max\n",
        "\n",
        "new = [3,4,6,7,3]\n",
        "\n",
        "min(new)\n"
      ],
      "metadata": {
        "colab": {
          "base_uri": "https://localhost:8080/"
        },
        "id": "tNAIzn6n1nGJ",
        "outputId": "4416a209-031d-458b-f275-6583786e11cd"
      },
      "execution_count": 38,
      "outputs": [
        {
          "output_type": "execute_result",
          "data": {
            "text/plain": [
              "3"
            ]
          },
          "metadata": {},
          "execution_count": 38
        }
      ]
    },
    {
      "cell_type": "code",
      "source": [
        "#round\n",
        "\n",
        "c= 3.8923\n",
        "round(c)"
      ],
      "metadata": {
        "colab": {
          "base_uri": "https://localhost:8080/"
        },
        "id": "844-AC5H1vxp",
        "outputId": "a75a8464-3cf6-4db0-a80d-a95cf6370d2f"
      },
      "execution_count": 41,
      "outputs": [
        {
          "output_type": "execute_result",
          "data": {
            "text/plain": [
              "4"
            ]
          },
          "metadata": {},
          "execution_count": 41
        }
      ]
    },
    {
      "cell_type": "code",
      "source": [
        "#divmod\n",
        "divmod(5,2)"
      ],
      "metadata": {
        "colab": {
          "base_uri": "https://localhost:8080/"
        },
        "id": "EPYYzQmV12gJ",
        "outputId": "2134b774-ce76-4844-f2c8-da5f4a15af50"
      },
      "execution_count": 42,
      "outputs": [
        {
          "output_type": "execute_result",
          "data": {
            "text/plain": [
              "(2, 1)"
            ]
          },
          "metadata": {},
          "execution_count": 42
        }
      ]
    },
    {
      "cell_type": "code",
      "source": [
        "#bin/oct/hex\n",
        "\n",
        "hex(4)"
      ],
      "metadata": {
        "colab": {
          "base_uri": "https://localhost:8080/",
          "height": 35
        },
        "id": "oTFO_4so2BjX",
        "outputId": "d69cae2d-4107-438a-c67b-ff638684180f"
      },
      "execution_count": 44,
      "outputs": [
        {
          "output_type": "execute_result",
          "data": {
            "text/plain": [
              "'0x4'"
            ],
            "application/vnd.google.colaboratory.intrinsic+json": {
              "type": "string"
            }
          },
          "metadata": {},
          "execution_count": 44
        }
      ]
    },
    {
      "cell_type": "code",
      "source": [
        "#ID  --> Return address in memory\n",
        "a=3\n",
        "id(a)\n"
      ],
      "metadata": {
        "colab": {
          "base_uri": "https://localhost:8080/"
        },
        "id": "PqBA5GrY2OSS",
        "outputId": "dbe25e7a-6d54-4691-c2d0-48ad360c9c67"
      },
      "execution_count": 45,
      "outputs": [
        {
          "output_type": "execute_result",
          "data": {
            "text/plain": [
              "11642152"
            ]
          },
          "metadata": {},
          "execution_count": 45
        }
      ]
    },
    {
      "cell_type": "code",
      "source": [
        "#ord\n",
        "#gives ASCII Code\n",
        "\n",
        "ord('A')"
      ],
      "metadata": {
        "colab": {
          "base_uri": "https://localhost:8080/"
        },
        "id": "vFyYJVNK2W1Y",
        "outputId": "91388b95-c5b3-406f-d966-b87e05bacefc"
      },
      "execution_count": 46,
      "outputs": [
        {
          "output_type": "execute_result",
          "data": {
            "text/plain": [
              "65"
            ]
          },
          "metadata": {},
          "execution_count": 46
        }
      ]
    },
    {
      "cell_type": "code",
      "source": [
        "#len\n",
        "len(name)"
      ],
      "metadata": {
        "colab": {
          "base_uri": "https://localhost:8080/"
        },
        "id": "xGON0STW2ZnR",
        "outputId": "a4d8b50f-404a-4ca8-ef97-3bcf05997711"
      },
      "execution_count": 47,
      "outputs": [
        {
          "output_type": "execute_result",
          "data": {
            "text/plain": [
              "5"
            ]
          },
          "metadata": {},
          "execution_count": 47
        }
      ]
    },
    {
      "cell_type": "code",
      "source": [
        "#Sum\n",
        "sum([1,2,3,4])"
      ],
      "metadata": {
        "colab": {
          "base_uri": "https://localhost:8080/"
        },
        "id": "yR2kQ0gq2gkd",
        "outputId": "866615b5-d7ab-45f1-e40c-67596cd59334"
      },
      "execution_count": 48,
      "outputs": [
        {
          "output_type": "execute_result",
          "data": {
            "text/plain": [
              "10"
            ]
          },
          "metadata": {},
          "execution_count": 48
        }
      ]
    },
    {
      "cell_type": "code",
      "source": [
        "#help\n",
        "#Gives documentation of given function\n",
        "\n",
        "help(sum)"
      ],
      "metadata": {
        "colab": {
          "base_uri": "https://localhost:8080/"
        },
        "id": "buJFqTdR2pDX",
        "outputId": "df25e5cb-8fdf-4b9d-f315-b44ffbc7bf1e"
      },
      "execution_count": 49,
      "outputs": [
        {
          "output_type": "stream",
          "name": "stdout",
          "text": [
            "Help on built-in function sum in module builtins:\n",
            "\n",
            "sum(iterable, /, start=0)\n",
            "    Return the sum of a 'start' value (default: 0) plus an iterable of numbers\n",
            "\n",
            "    When the iterable is empty, return the start value.\n",
            "    This function is intended specifically for use with numeric values and may\n",
            "    reject non-numeric types.\n",
            "\n"
          ]
        }
      ]
    },
    {
      "cell_type": "code",
      "source": [],
      "metadata": {
        "id": "AYn219M_5F62"
      },
      "execution_count": null,
      "outputs": []
    },
    {
      "cell_type": "markdown",
      "source": [
        "**What are the Modules?**\n",
        "Consider a module to be same as a code library\n",
        "\n",
        "A file containing a set of fucntions you want to include in your application\n",
        "\n",
        "Example: Python modules\n",
        "\n",
        "\n",
        "*   Math\n",
        "*   Random\n",
        "*   os\n",
        "*   time\n",
        "\n",
        "\n",
        "\n"
      ],
      "metadata": {
        "id": "EDE1HXNV36c8"
      }
    },
    {
      "cell_type": "code",
      "source": [
        "help('modules')"
      ],
      "metadata": {
        "colab": {
          "base_uri": "https://localhost:8080/",
          "height": 1000
        },
        "id": "8_aowiXS2ugQ",
        "outputId": "150ff5d0-2bbd-4ee0-ddc7-92d09aac035e"
      },
      "execution_count": 51,
      "outputs": [
        {
          "output_type": "stream",
          "name": "stdout",
          "text": [
            "\n",
            "Please wait a moment while I gather a list of all available modules...\n",
            "\n"
          ]
        },
        {
          "output_type": "stream",
          "name": "stderr",
          "text": [
            "/usr/local/lib/python3.12/dist-packages/Cryptodome/SelfTest/PublicKey/test_ECC_NIST.py:779: UserWarning: Warning: skipping extended tests for P-192 tests from point-at-infinity.org\n",
            "  tv_pai = load_test_vectors((\"PublicKey\", \"ECC\"),\n",
            "/usr/local/lib/python3.12/dist-packages/Cryptodome/SelfTest/PublicKey/test_ECC_NIST.py:800: UserWarning: Warning: skipping extended tests for P-224 tests from point-at-infinity.org\n",
            "  tv_pai = load_test_vectors((\"PublicKey\", \"ECC\"),\n",
            "/usr/local/lib/python3.12/dist-packages/Cryptodome/SelfTest/PublicKey/test_ECC_NIST.py:821: UserWarning: Warning: skipping extended tests for P-256 tests from point-at-infinity.org\n",
            "  tv_pai = load_test_vectors((\"PublicKey\", \"ECC\"),\n",
            "/usr/local/lib/python3.12/dist-packages/Cryptodome/SelfTest/PublicKey/test_ECC_NIST.py:842: UserWarning: Warning: skipping extended tests for P-384 tests from point-at-infinity.org\n",
            "  tv_pai = load_test_vectors((\"PublicKey\", \"ECC\"),\n",
            "/usr/local/lib/python3.12/dist-packages/Cryptodome/SelfTest/PublicKey/test_ECC_NIST.py:863: UserWarning: Warning: skipping extended tests for P-521 tests from point-at-infinity.org\n",
            "  tv_pai = load_test_vectors((\"PublicKey\", \"ECC\"),\n",
            "/usr/local/lib/python3.12/dist-packages/Cryptodome/SelfTest/Signature/test_pkcs1_15.py:70: UserWarning: Warning: skipping extended tests for Signature Verification 186-3\n",
            "  test_vectors_verify = load_test_vectors((\"Signature\", \"PKCS1-v1.5\"),\n",
            "/usr/local/lib/python3.12/dist-packages/Cryptodome/SelfTest/Signature/test_pkcs1_15.py:117: UserWarning: Warning: skipping extended tests for Signature Generation 186-2\n",
            "  test_vectors_sign  = load_test_vectors((\"Signature\", \"PKCS1-v1.5\"),\n",
            "/usr/local/lib/python3.12/dist-packages/Cryptodome/SelfTest/Signature/test_pkcs1_15.py:122: UserWarning: Warning: skipping extended tests for Signature Generation 186-3\n",
            "  test_vectors_sign += load_test_vectors((\"Signature\", \"PKCS1-v1.5\"),\n",
            "/usr/local/lib/python3.12/dist-packages/Cryptodome/SelfTest/Signature/test_pss.py:117: UserWarning: Warning: skipping extended tests for Signature Verification 186-3\n",
            "  test_vectors_verify = load_test_vectors((\"Signature\", \"PKCS1-PSS\"),\n",
            "/usr/local/lib/python3.12/dist-packages/Cryptodome/SelfTest/Signature/test_pss.py:169: UserWarning: Warning: skipping extended tests for Signature Generation 186-2\n",
            "  test_vectors_sign = load_test_vectors((\"Signature\", \"PKCS1-PSS\"),\n",
            "/usr/local/lib/python3.12/dist-packages/Cryptodome/SelfTest/Signature/test_pss.py:174: UserWarning: Warning: skipping extended tests for Signature Generation 186-3\n",
            "  test_vectors_sign += load_test_vectors((\"Signature\", \"PKCS1-PSS\"),\n",
            "/usr/local/lib/python3.12/dist-packages/Cryptodome/SelfTest/Signature/test_dss.py:159: UserWarning: Warning: skipping extended tests for Signature Verification 186-3\n",
            "  test_vectors_verify = load_test_vectors((\"Signature\", \"DSA\"),\n",
            "/usr/local/lib/python3.12/dist-packages/Cryptodome/SelfTest/Signature/test_dss.py:197: UserWarning: Warning: skipping extended tests for Signature Creation 186-3\n",
            "  test_vectors_sign = load_test_vectors((\"Signature\", \"DSA\"),\n",
            "/usr/local/lib/python3.12/dist-packages/Cryptodome/SelfTest/Signature/test_dss.py:307: UserWarning: Warning: skipping extended tests for ECDSA Signature Verification 186-3\n",
            "  test_vectors_verify = load_test_vectors((\"Signature\", \"ECDSA\"),\n",
            "/usr/local/lib/python3.12/dist-packages/Cryptodome/SelfTest/Signature/test_dss.py:314: UserWarning: Warning: skipping extended tests for ECDSA Signature Verification 186-3\n",
            "  test_vectors_verify += load_test_vectors((\"Signature\", \"ECDSA\"),\n",
            "/usr/local/lib/python3.12/dist-packages/Cryptodome/SelfTest/Signature/test_dss.py:357: UserWarning: Warning: skipping extended tests for ECDSA Signature Verification 186-3\n",
            "  test_vectors_sign = load_test_vectors((\"Signature\", \"ECDSA\"),\n",
            "/usr/local/lib/python3.12/dist-packages/IPython/kernel/__init__.py:12: ShimWarning: The `IPython.kernel` package has been deprecated since IPython 4.0.You should import from ipykernel or jupyter_client instead.\n",
            "  warn(\"The `IPython.kernel` package has been deprecated since IPython 4.0.\"\n",
            "ERROR:root:Internal Python error in the inspect module.\n",
            "Below is the traceback from this internal error.\n",
            "\n"
          ]
        },
        {
          "output_type": "stream",
          "name": "stdout",
          "text": [
            "\u001b[31mUnable to import `black` from betterproto plugin! Please ensure that you've installed betterproto as `pip install \"betterproto[compiler]\"` so that compiler dependencies are included.\u001b[0m\n",
            "Traceback (most recent call last):\n",
            "  File \"/usr/local/lib/python3.12/dist-packages/betterproto/plugin/compiler.py\", line 6, in <module>\n",
            "    import black\n",
            "ModuleNotFoundError: No module named 'black'\n",
            "\n",
            "During handling of the above exception, another exception occurred:\n",
            "\n",
            "Traceback (most recent call last):\n",
            "  File \"/usr/local/lib/python3.12/dist-packages/IPython/core/interactiveshell.py\", line 3553, in run_code\n",
            "    exec(code_obj, self.user_global_ns, self.user_ns)\n",
            "  File \"/tmp/ipython-input-2756529105.py\", line 1, in <cell line: 0>\n",
            "    help('modules')\n",
            "  File \"<frozen _sitebuiltins>\", line 103, in __call__\n",
            "  File \"/usr/lib/python3.12/pydoc.py\", line 2112, in __call__\n",
            "    self.help(request)\n",
            "  File \"/usr/lib/python3.12/pydoc.py\", line 2161, in help\n",
            "    elif request == 'modules': self.listmodules()\n",
            "                               ^^^^^^^^^^^^^^^^^^\n",
            "  File \"/usr/lib/python3.12/pydoc.py\", line 2319, in listmodules\n",
            "    ModuleScanner().run(callback, onerror=onerror)\n",
            "  File \"/usr/lib/python3.12/pydoc.py\", line 2348, in run\n",
            "    for importer, modname, ispkg in pkgutil.walk_packages(onerror=onerror):\n",
            "                                    ^^^^^^^^^^^^^^^^^^^^^^^^^^^^^^^^^^^^^^\n",
            "  File \"/usr/lib/python3.12/pkgutil.py\", line 93, in walk_packages\n",
            "    yield from walk_packages(path, info.name+'.', onerror)\n",
            "  File \"/usr/lib/python3.12/pkgutil.py\", line 78, in walk_packages\n",
            "    __import__(info.name)\n",
            "  File \"/usr/local/lib/python3.12/dist-packages/betterproto/plugin/__init__.py\", line 1, in <module>\n",
            "    from .main import main\n",
            "  File \"/usr/local/lib/python3.12/dist-packages/betterproto/plugin/main.py\", line 11, in <module>\n",
            "    from betterproto.plugin.parser import generate_code\n",
            "  File \"/usr/local/lib/python3.12/dist-packages/betterproto/plugin/parser.py\", line 25, in <module>\n",
            "    from .compiler import outputfile_compiler\n",
            "  File \"/usr/local/lib/python3.12/dist-packages/betterproto/plugin/compiler.py\", line 18, in <module>\n",
            "    raise SystemExit(1)\n",
            "SystemExit: 1\n",
            "\n",
            "During handling of the above exception, another exception occurred:\n",
            "\n",
            "Traceback (most recent call last):\n",
            "  File \"/usr/local/lib/python3.12/dist-packages/IPython/core/ultratb.py\", line 1101, in get_records\n",
            "    return _fixed_getinnerframes(etb, number_of_lines_of_context, tb_offset)\n",
            "           ^^^^^^^^^^^^^^^^^^^^^^^^^^^^^^^^^^^^^^^^^^^^^^^^^^^^^^^^^^^^^^^^^\n",
            "  File \"/usr/local/lib/python3.12/dist-packages/IPython/core/ultratb.py\", line 248, in wrapped\n",
            "    return f(*args, **kwargs)\n",
            "           ^^^^^^^^^^^^^^^^^^\n",
            "  File \"/usr/local/lib/python3.12/dist-packages/IPython/core/ultratb.py\", line 281, in _fixed_getinnerframes\n",
            "    records = fix_frame_records_filenames(inspect.getinnerframes(etb, context))\n",
            "                                          ^^^^^^^^^^^^^^^^^^^^^^^^^^^^^^^^^^^^\n",
            "  File \"/usr/lib/python3.12/inspect.py\", line 1769, in getinnerframes\n",
            "    traceback_info = getframeinfo(tb, context)\n",
            "                     ^^^^^^^^^^^^^^^^^^^^^^^^^\n",
            "  File \"/usr/lib/python3.12/inspect.py\", line 1701, in getframeinfo\n",
            "    lineno = frame.f_lineno\n",
            "             ^^^^^^^^^^^^^^\n",
            "AttributeError: 'tuple' object has no attribute 'f_lineno'\n"
          ]
        },
        {
          "output_type": "error",
          "ename": "TypeError",
          "evalue": "object of type 'NoneType' has no len()",
          "traceback": [
            "\u001b[0;31m---------------------------------------------------------------------------\u001b[0m",
            "\u001b[0;31mModuleNotFoundError\u001b[0m                       Traceback (most recent call last)",
            "\u001b[0;32m/usr/local/lib/python3.12/dist-packages/betterproto/plugin/compiler.py\u001b[0m in \u001b[0;36m<module>\u001b[0;34m\u001b[0m\n\u001b[1;32m      5\u001b[0m     \u001b[0;31m# betterproto[compiler] specific dependencies\u001b[0m\u001b[0;34m\u001b[0m\u001b[0;34m\u001b[0m\u001b[0m\n\u001b[0;32m----> 6\u001b[0;31m     \u001b[0;32mimport\u001b[0m \u001b[0mblack\u001b[0m\u001b[0;34m\u001b[0m\u001b[0;34m\u001b[0m\u001b[0m\n\u001b[0m\u001b[1;32m      7\u001b[0m     \u001b[0;32mimport\u001b[0m \u001b[0misort\u001b[0m\u001b[0;34m.\u001b[0m\u001b[0mapi\u001b[0m\u001b[0;34m\u001b[0m\u001b[0;34m\u001b[0m\u001b[0m\n",
            "\u001b[0;31mModuleNotFoundError\u001b[0m: No module named 'black'",
            "\nDuring handling of the above exception, another exception occurred:\n",
            "\u001b[0;31mSystemExit\u001b[0m                                Traceback (most recent call last)",
            "    \u001b[0;31m[... skipping hidden 1 frame]\u001b[0m\n",
            "\u001b[0;32m/tmp/ipython-input-2756529105.py\u001b[0m in \u001b[0;36m<cell line: 0>\u001b[0;34m()\u001b[0m\n\u001b[0;32m----> 1\u001b[0;31m \u001b[0mhelp\u001b[0m\u001b[0;34m(\u001b[0m\u001b[0;34m'modules'\u001b[0m\u001b[0;34m)\u001b[0m\u001b[0;34m\u001b[0m\u001b[0;34m\u001b[0m\u001b[0m\n\u001b[0m",
            "\u001b[0;32m/usr/lib/python3.12/_sitebuiltins.py\u001b[0m in \u001b[0;36m__call__\u001b[0;34m(self, *args, **kwds)\u001b[0m\n",
            "\u001b[0;32m/usr/lib/python3.12/pydoc.py\u001b[0m in \u001b[0;36m__call__\u001b[0;34m(self, request)\u001b[0m\n\u001b[1;32m   2111\u001b[0m             \u001b[0;32mtry\u001b[0m\u001b[0;34m:\u001b[0m\u001b[0;34m\u001b[0m\u001b[0;34m\u001b[0m\u001b[0m\n\u001b[0;32m-> 2112\u001b[0;31m                 \u001b[0mself\u001b[0m\u001b[0;34m.\u001b[0m\u001b[0mhelp\u001b[0m\u001b[0;34m(\u001b[0m\u001b[0mrequest\u001b[0m\u001b[0;34m)\u001b[0m\u001b[0;34m\u001b[0m\u001b[0;34m\u001b[0m\u001b[0m\n\u001b[0m\u001b[1;32m   2113\u001b[0m             \u001b[0;32mexcept\u001b[0m \u001b[0mImportError\u001b[0m \u001b[0;32mas\u001b[0m \u001b[0merr\u001b[0m\u001b[0;34m:\u001b[0m\u001b[0;34m\u001b[0m\u001b[0;34m\u001b[0m\u001b[0m\n",
            "\u001b[0;32m/usr/lib/python3.12/pydoc.py\u001b[0m in \u001b[0;36mhelp\u001b[0;34m(self, request, is_cli)\u001b[0m\n\u001b[1;32m   2160\u001b[0m             \u001b[0;32melif\u001b[0m \u001b[0mrequest\u001b[0m \u001b[0;34m==\u001b[0m \u001b[0;34m'topics'\u001b[0m\u001b[0;34m:\u001b[0m \u001b[0mself\u001b[0m\u001b[0;34m.\u001b[0m\u001b[0mlisttopics\u001b[0m\u001b[0;34m(\u001b[0m\u001b[0;34m)\u001b[0m\u001b[0;34m\u001b[0m\u001b[0;34m\u001b[0m\u001b[0m\n\u001b[0;32m-> 2161\u001b[0;31m             \u001b[0;32melif\u001b[0m \u001b[0mrequest\u001b[0m \u001b[0;34m==\u001b[0m \u001b[0;34m'modules'\u001b[0m\u001b[0;34m:\u001b[0m \u001b[0mself\u001b[0m\u001b[0;34m.\u001b[0m\u001b[0mlistmodules\u001b[0m\u001b[0;34m(\u001b[0m\u001b[0;34m)\u001b[0m\u001b[0;34m\u001b[0m\u001b[0;34m\u001b[0m\u001b[0m\n\u001b[0m\u001b[1;32m   2162\u001b[0m             \u001b[0;32melif\u001b[0m \u001b[0mrequest\u001b[0m\u001b[0;34m[\u001b[0m\u001b[0;34m:\u001b[0m\u001b[0;36m8\u001b[0m\u001b[0;34m]\u001b[0m \u001b[0;34m==\u001b[0m \u001b[0;34m'modules '\u001b[0m\u001b[0;34m:\u001b[0m\u001b[0;34m\u001b[0m\u001b[0;34m\u001b[0m\u001b[0m\n",
            "\u001b[0;32m/usr/lib/python3.12/pydoc.py\u001b[0m in \u001b[0;36mlistmodules\u001b[0;34m(self, key)\u001b[0m\n\u001b[1;32m   2318\u001b[0m                 \u001b[0mcallback\u001b[0m\u001b[0;34m(\u001b[0m\u001b[0;32mNone\u001b[0m\u001b[0;34m,\u001b[0m \u001b[0mmodname\u001b[0m\u001b[0;34m,\u001b[0m \u001b[0;32mNone\u001b[0m\u001b[0;34m)\u001b[0m\u001b[0;34m\u001b[0m\u001b[0;34m\u001b[0m\u001b[0m\n\u001b[0;32m-> 2319\u001b[0;31m             \u001b[0mModuleScanner\u001b[0m\u001b[0;34m(\u001b[0m\u001b[0;34m)\u001b[0m\u001b[0;34m.\u001b[0m\u001b[0mrun\u001b[0m\u001b[0;34m(\u001b[0m\u001b[0mcallback\u001b[0m\u001b[0;34m,\u001b[0m \u001b[0monerror\u001b[0m\u001b[0;34m=\u001b[0m\u001b[0monerror\u001b[0m\u001b[0;34m)\u001b[0m\u001b[0;34m\u001b[0m\u001b[0;34m\u001b[0m\u001b[0m\n\u001b[0m\u001b[1;32m   2320\u001b[0m             \u001b[0mself\u001b[0m\u001b[0;34m.\u001b[0m\u001b[0mlist\u001b[0m\u001b[0;34m(\u001b[0m\u001b[0mmodules\u001b[0m\u001b[0;34m.\u001b[0m\u001b[0mkeys\u001b[0m\u001b[0;34m(\u001b[0m\u001b[0;34m)\u001b[0m\u001b[0;34m)\u001b[0m\u001b[0;34m\u001b[0m\u001b[0;34m\u001b[0m\u001b[0m\n",
            "\u001b[0;32m/usr/lib/python3.12/pydoc.py\u001b[0m in \u001b[0;36mrun\u001b[0;34m(self, callback, key, completer, onerror)\u001b[0m\n\u001b[1;32m   2347\u001b[0m \u001b[0;34m\u001b[0m\u001b[0m\n\u001b[0;32m-> 2348\u001b[0;31m         \u001b[0;32mfor\u001b[0m \u001b[0mimporter\u001b[0m\u001b[0;34m,\u001b[0m \u001b[0mmodname\u001b[0m\u001b[0;34m,\u001b[0m \u001b[0mispkg\u001b[0m \u001b[0;32min\u001b[0m \u001b[0mpkgutil\u001b[0m\u001b[0;34m.\u001b[0m\u001b[0mwalk_packages\u001b[0m\u001b[0;34m(\u001b[0m\u001b[0monerror\u001b[0m\u001b[0;34m=\u001b[0m\u001b[0monerror\u001b[0m\u001b[0;34m)\u001b[0m\u001b[0;34m:\u001b[0m\u001b[0;34m\u001b[0m\u001b[0;34m\u001b[0m\u001b[0m\n\u001b[0m\u001b[1;32m   2349\u001b[0m             \u001b[0;32mif\u001b[0m \u001b[0mself\u001b[0m\u001b[0;34m.\u001b[0m\u001b[0mquit\u001b[0m\u001b[0;34m:\u001b[0m\u001b[0;34m\u001b[0m\u001b[0;34m\u001b[0m\u001b[0m\n",
            "\u001b[0;32m/usr/lib/python3.12/pkgutil.py\u001b[0m in \u001b[0;36mwalk_packages\u001b[0;34m(path, prefix, onerror)\u001b[0m\n\u001b[1;32m     92\u001b[0m \u001b[0;34m\u001b[0m\u001b[0m\n\u001b[0;32m---> 93\u001b[0;31m                 \u001b[0;32myield\u001b[0m \u001b[0;32mfrom\u001b[0m \u001b[0mwalk_packages\u001b[0m\u001b[0;34m(\u001b[0m\u001b[0mpath\u001b[0m\u001b[0;34m,\u001b[0m \u001b[0minfo\u001b[0m\u001b[0;34m.\u001b[0m\u001b[0mname\u001b[0m\u001b[0;34m+\u001b[0m\u001b[0;34m'.'\u001b[0m\u001b[0;34m,\u001b[0m \u001b[0monerror\u001b[0m\u001b[0;34m)\u001b[0m\u001b[0;34m\u001b[0m\u001b[0;34m\u001b[0m\u001b[0m\n\u001b[0m\u001b[1;32m     94\u001b[0m \u001b[0;34m\u001b[0m\u001b[0m\n",
            "\u001b[0;32m/usr/lib/python3.12/pkgutil.py\u001b[0m in \u001b[0;36mwalk_packages\u001b[0;34m(path, prefix, onerror)\u001b[0m\n\u001b[1;32m     77\u001b[0m             \u001b[0;32mtry\u001b[0m\u001b[0;34m:\u001b[0m\u001b[0;34m\u001b[0m\u001b[0;34m\u001b[0m\u001b[0m\n\u001b[0;32m---> 78\u001b[0;31m                 \u001b[0m__import__\u001b[0m\u001b[0;34m(\u001b[0m\u001b[0minfo\u001b[0m\u001b[0;34m.\u001b[0m\u001b[0mname\u001b[0m\u001b[0;34m)\u001b[0m\u001b[0;34m\u001b[0m\u001b[0;34m\u001b[0m\u001b[0m\n\u001b[0m\u001b[1;32m     79\u001b[0m             \u001b[0;32mexcept\u001b[0m \u001b[0mImportError\u001b[0m\u001b[0;34m:\u001b[0m\u001b[0;34m\u001b[0m\u001b[0;34m\u001b[0m\u001b[0m\n",
            "\u001b[0;32m/usr/local/lib/python3.12/dist-packages/betterproto/plugin/__init__.py\u001b[0m in \u001b[0;36m<module>\u001b[0;34m\u001b[0m\n\u001b[0;32m----> 1\u001b[0;31m \u001b[0;32mfrom\u001b[0m \u001b[0;34m.\u001b[0m\u001b[0mmain\u001b[0m \u001b[0;32mimport\u001b[0m \u001b[0mmain\u001b[0m\u001b[0;34m\u001b[0m\u001b[0;34m\u001b[0m\u001b[0m\n\u001b[0m",
            "\u001b[0;32m/usr/local/lib/python3.12/dist-packages/betterproto/plugin/main.py\u001b[0m in \u001b[0;36m<module>\u001b[0;34m\u001b[0m\n\u001b[1;32m     10\u001b[0m \u001b[0;32mfrom\u001b[0m \u001b[0mbetterproto\u001b[0m\u001b[0;34m.\u001b[0m\u001b[0mplugin\u001b[0m\u001b[0;34m.\u001b[0m\u001b[0mmodels\u001b[0m \u001b[0;32mimport\u001b[0m \u001b[0mmonkey_patch_oneof_index\u001b[0m\u001b[0;34m\u001b[0m\u001b[0;34m\u001b[0m\u001b[0m\n\u001b[0;32m---> 11\u001b[0;31m \u001b[0;32mfrom\u001b[0m \u001b[0mbetterproto\u001b[0m\u001b[0;34m.\u001b[0m\u001b[0mplugin\u001b[0m\u001b[0;34m.\u001b[0m\u001b[0mparser\u001b[0m \u001b[0;32mimport\u001b[0m \u001b[0mgenerate_code\u001b[0m\u001b[0;34m\u001b[0m\u001b[0;34m\u001b[0m\u001b[0m\n\u001b[0m\u001b[1;32m     12\u001b[0m \u001b[0;34m\u001b[0m\u001b[0m\n",
            "\u001b[0;32m/usr/local/lib/python3.12/dist-packages/betterproto/plugin/parser.py\u001b[0m in \u001b[0;36m<module>\u001b[0;34m\u001b[0m\n\u001b[1;32m     24\u001b[0m \u001b[0;34m\u001b[0m\u001b[0m\n\u001b[0;32m---> 25\u001b[0;31m \u001b[0;32mfrom\u001b[0m \u001b[0;34m.\u001b[0m\u001b[0mcompiler\u001b[0m \u001b[0;32mimport\u001b[0m \u001b[0moutputfile_compiler\u001b[0m\u001b[0;34m\u001b[0m\u001b[0;34m\u001b[0m\u001b[0m\n\u001b[0m\u001b[1;32m     26\u001b[0m from .models import (\n",
            "\u001b[0;32m/usr/local/lib/python3.12/dist-packages/betterproto/plugin/compiler.py\u001b[0m in \u001b[0;36m<module>\u001b[0;34m\u001b[0m\n\u001b[1;32m     17\u001b[0m     )\n\u001b[0;32m---> 18\u001b[0;31m     \u001b[0;32mraise\u001b[0m \u001b[0mSystemExit\u001b[0m\u001b[0;34m(\u001b[0m\u001b[0;36m1\u001b[0m\u001b[0;34m)\u001b[0m\u001b[0;34m\u001b[0m\u001b[0;34m\u001b[0m\u001b[0m\n\u001b[0m\u001b[1;32m     19\u001b[0m \u001b[0;34m\u001b[0m\u001b[0m\n",
            "\u001b[0;31mSystemExit\u001b[0m: 1",
            "\nDuring handling of the above exception, another exception occurred:\n",
            "\u001b[0;31mTypeError\u001b[0m                                 Traceback (most recent call last)",
            "    \u001b[0;31m[... skipping hidden 1 frame]\u001b[0m\n",
            "\u001b[0;32m/usr/local/lib/python3.12/dist-packages/IPython/core/interactiveshell.py\u001b[0m in \u001b[0;36mshowtraceback\u001b[0;34m(self, exc_tuple, filename, tb_offset, exception_only, running_compiled_code)\u001b[0m\n\u001b[1;32m   2090\u001b[0m                     stb = ['An exception has occurred, use %tb to see '\n\u001b[1;32m   2091\u001b[0m                            'the full traceback.\\n']\n\u001b[0;32m-> 2092\u001b[0;31m                     stb.extend(self.InteractiveTB.get_exception_only(etype,\n\u001b[0m\u001b[1;32m   2093\u001b[0m                                                                      value))\n\u001b[1;32m   2094\u001b[0m                 \u001b[0;32melse\u001b[0m\u001b[0;34m:\u001b[0m\u001b[0;34m\u001b[0m\u001b[0;34m\u001b[0m\u001b[0m\n",
            "\u001b[0;32m/usr/local/lib/python3.12/dist-packages/IPython/core/ultratb.py\u001b[0m in \u001b[0;36mget_exception_only\u001b[0;34m(self, etype, value)\u001b[0m\n\u001b[1;32m    752\u001b[0m         \u001b[0mvalue\u001b[0m \u001b[0;34m:\u001b[0m \u001b[0mexception\u001b[0m \u001b[0mvalue\u001b[0m\u001b[0;34m\u001b[0m\u001b[0;34m\u001b[0m\u001b[0m\n\u001b[1;32m    753\u001b[0m         \"\"\"\n\u001b[0;32m--> 754\u001b[0;31m         \u001b[0;32mreturn\u001b[0m \u001b[0mListTB\u001b[0m\u001b[0;34m.\u001b[0m\u001b[0mstructured_traceback\u001b[0m\u001b[0;34m(\u001b[0m\u001b[0mself\u001b[0m\u001b[0;34m,\u001b[0m \u001b[0metype\u001b[0m\u001b[0;34m,\u001b[0m \u001b[0mvalue\u001b[0m\u001b[0;34m)\u001b[0m\u001b[0;34m\u001b[0m\u001b[0;34m\u001b[0m\u001b[0m\n\u001b[0m\u001b[1;32m    755\u001b[0m \u001b[0;34m\u001b[0m\u001b[0m\n\u001b[1;32m    756\u001b[0m     \u001b[0;32mdef\u001b[0m \u001b[0mshow_exception_only\u001b[0m\u001b[0;34m(\u001b[0m\u001b[0mself\u001b[0m\u001b[0;34m,\u001b[0m \u001b[0metype\u001b[0m\u001b[0;34m,\u001b[0m \u001b[0mevalue\u001b[0m\u001b[0;34m)\u001b[0m\u001b[0;34m:\u001b[0m\u001b[0;34m\u001b[0m\u001b[0;34m\u001b[0m\u001b[0m\n",
            "\u001b[0;32m/usr/local/lib/python3.12/dist-packages/IPython/core/ultratb.py\u001b[0m in \u001b[0;36mstructured_traceback\u001b[0;34m(self, etype, evalue, etb, tb_offset, context)\u001b[0m\n\u001b[1;32m    627\u001b[0m             \u001b[0mchained_exceptions_tb_offset\u001b[0m \u001b[0;34m=\u001b[0m \u001b[0;36m0\u001b[0m\u001b[0;34m\u001b[0m\u001b[0;34m\u001b[0m\u001b[0m\n\u001b[1;32m    628\u001b[0m             out_list = (\n\u001b[0;32m--> 629\u001b[0;31m                 self.structured_traceback(\n\u001b[0m\u001b[1;32m    630\u001b[0m                     \u001b[0metype\u001b[0m\u001b[0;34m,\u001b[0m \u001b[0mevalue\u001b[0m\u001b[0;34m,\u001b[0m \u001b[0;34m(\u001b[0m\u001b[0metb\u001b[0m\u001b[0;34m,\u001b[0m \u001b[0mchained_exc_ids\u001b[0m\u001b[0;34m)\u001b[0m\u001b[0;34m,\u001b[0m\u001b[0;34m\u001b[0m\u001b[0;34m\u001b[0m\u001b[0m\n\u001b[1;32m    631\u001b[0m                     chained_exceptions_tb_offset, context)\n",
            "\u001b[0;32m/usr/local/lib/python3.12/dist-packages/IPython/core/ultratb.py\u001b[0m in \u001b[0;36mstructured_traceback\u001b[0;34m(self, etype, value, tb, tb_offset, number_of_lines_of_context)\u001b[0m\n\u001b[1;32m   1365\u001b[0m         \u001b[0;32melse\u001b[0m\u001b[0;34m:\u001b[0m\u001b[0;34m\u001b[0m\u001b[0;34m\u001b[0m\u001b[0m\n\u001b[1;32m   1366\u001b[0m             \u001b[0mself\u001b[0m\u001b[0;34m.\u001b[0m\u001b[0mtb\u001b[0m \u001b[0;34m=\u001b[0m \u001b[0mtb\u001b[0m\u001b[0;34m\u001b[0m\u001b[0;34m\u001b[0m\u001b[0m\n\u001b[0;32m-> 1367\u001b[0;31m         return FormattedTB.structured_traceback(\n\u001b[0m\u001b[1;32m   1368\u001b[0m             self, etype, value, tb, tb_offset, number_of_lines_of_context)\n\u001b[1;32m   1369\u001b[0m \u001b[0;34m\u001b[0m\u001b[0m\n",
            "\u001b[0;32m/usr/local/lib/python3.12/dist-packages/IPython/core/ultratb.py\u001b[0m in \u001b[0;36mstructured_traceback\u001b[0;34m(self, etype, value, tb, tb_offset, number_of_lines_of_context)\u001b[0m\n\u001b[1;32m   1265\u001b[0m         \u001b[0;32mif\u001b[0m \u001b[0mmode\u001b[0m \u001b[0;32min\u001b[0m \u001b[0mself\u001b[0m\u001b[0;34m.\u001b[0m\u001b[0mverbose_modes\u001b[0m\u001b[0;34m:\u001b[0m\u001b[0;34m\u001b[0m\u001b[0;34m\u001b[0m\u001b[0m\n\u001b[1;32m   1266\u001b[0m             \u001b[0;31m# Verbose modes need a full traceback\u001b[0m\u001b[0;34m\u001b[0m\u001b[0;34m\u001b[0m\u001b[0m\n\u001b[0;32m-> 1267\u001b[0;31m             return VerboseTB.structured_traceback(\n\u001b[0m\u001b[1;32m   1268\u001b[0m                 \u001b[0mself\u001b[0m\u001b[0;34m,\u001b[0m \u001b[0metype\u001b[0m\u001b[0;34m,\u001b[0m \u001b[0mvalue\u001b[0m\u001b[0;34m,\u001b[0m \u001b[0mtb\u001b[0m\u001b[0;34m,\u001b[0m \u001b[0mtb_offset\u001b[0m\u001b[0;34m,\u001b[0m \u001b[0mnumber_of_lines_of_context\u001b[0m\u001b[0;34m\u001b[0m\u001b[0;34m\u001b[0m\u001b[0m\n\u001b[1;32m   1269\u001b[0m             )\n",
            "\u001b[0;32m/usr/local/lib/python3.12/dist-packages/IPython/core/ultratb.py\u001b[0m in \u001b[0;36mstructured_traceback\u001b[0;34m(self, etype, evalue, etb, tb_offset, number_of_lines_of_context)\u001b[0m\n\u001b[1;32m   1122\u001b[0m         \u001b[0;34m\"\"\"Return a nice text document describing the traceback.\"\"\"\u001b[0m\u001b[0;34m\u001b[0m\u001b[0;34m\u001b[0m\u001b[0m\n\u001b[1;32m   1123\u001b[0m \u001b[0;34m\u001b[0m\u001b[0m\n\u001b[0;32m-> 1124\u001b[0;31m         formatted_exception = self.format_exception_as_a_whole(etype, evalue, etb, number_of_lines_of_context,\n\u001b[0m\u001b[1;32m   1125\u001b[0m                                                                tb_offset)\n\u001b[1;32m   1126\u001b[0m \u001b[0;34m\u001b[0m\u001b[0m\n",
            "\u001b[0;32m/usr/local/lib/python3.12/dist-packages/IPython/core/ultratb.py\u001b[0m in \u001b[0;36mformat_exception_as_a_whole\u001b[0;34m(self, etype, evalue, etb, number_of_lines_of_context, tb_offset)\u001b[0m\n\u001b[1;32m   1080\u001b[0m \u001b[0;34m\u001b[0m\u001b[0m\n\u001b[1;32m   1081\u001b[0m \u001b[0;34m\u001b[0m\u001b[0m\n\u001b[0;32m-> 1082\u001b[0;31m         \u001b[0mlast_unique\u001b[0m\u001b[0;34m,\u001b[0m \u001b[0mrecursion_repeat\u001b[0m \u001b[0;34m=\u001b[0m \u001b[0mfind_recursion\u001b[0m\u001b[0;34m(\u001b[0m\u001b[0morig_etype\u001b[0m\u001b[0;34m,\u001b[0m \u001b[0mevalue\u001b[0m\u001b[0;34m,\u001b[0m \u001b[0mrecords\u001b[0m\u001b[0;34m)\u001b[0m\u001b[0;34m\u001b[0m\u001b[0;34m\u001b[0m\u001b[0m\n\u001b[0m\u001b[1;32m   1083\u001b[0m \u001b[0;34m\u001b[0m\u001b[0m\n\u001b[1;32m   1084\u001b[0m         \u001b[0mframes\u001b[0m \u001b[0;34m=\u001b[0m \u001b[0mself\u001b[0m\u001b[0;34m.\u001b[0m\u001b[0mformat_records\u001b[0m\u001b[0;34m(\u001b[0m\u001b[0mrecords\u001b[0m\u001b[0;34m,\u001b[0m \u001b[0mlast_unique\u001b[0m\u001b[0;34m,\u001b[0m \u001b[0mrecursion_repeat\u001b[0m\u001b[0;34m)\u001b[0m\u001b[0;34m\u001b[0m\u001b[0;34m\u001b[0m\u001b[0m\n",
            "\u001b[0;32m/usr/local/lib/python3.12/dist-packages/IPython/core/ultratb.py\u001b[0m in \u001b[0;36mfind_recursion\u001b[0;34m(etype, value, records)\u001b[0m\n\u001b[1;32m    380\u001b[0m     \u001b[0;31m# first frame (from in to out) that looks different.\u001b[0m\u001b[0;34m\u001b[0m\u001b[0;34m\u001b[0m\u001b[0m\n\u001b[1;32m    381\u001b[0m     \u001b[0;32mif\u001b[0m \u001b[0;32mnot\u001b[0m \u001b[0mis_recursion_error\u001b[0m\u001b[0;34m(\u001b[0m\u001b[0metype\u001b[0m\u001b[0;34m,\u001b[0m \u001b[0mvalue\u001b[0m\u001b[0;34m,\u001b[0m \u001b[0mrecords\u001b[0m\u001b[0;34m)\u001b[0m\u001b[0;34m:\u001b[0m\u001b[0;34m\u001b[0m\u001b[0;34m\u001b[0m\u001b[0m\n\u001b[0;32m--> 382\u001b[0;31m         \u001b[0;32mreturn\u001b[0m \u001b[0mlen\u001b[0m\u001b[0;34m(\u001b[0m\u001b[0mrecords\u001b[0m\u001b[0;34m)\u001b[0m\u001b[0;34m,\u001b[0m \u001b[0;36m0\u001b[0m\u001b[0;34m\u001b[0m\u001b[0;34m\u001b[0m\u001b[0m\n\u001b[0m\u001b[1;32m    383\u001b[0m \u001b[0;34m\u001b[0m\u001b[0m\n\u001b[1;32m    384\u001b[0m     \u001b[0;31m# Select filename, lineno, func_name to track frames with\u001b[0m\u001b[0;34m\u001b[0m\u001b[0;34m\u001b[0m\u001b[0m\n",
            "\u001b[0;31mTypeError\u001b[0m: object of type 'NoneType' has no len()"
          ]
        }
      ]
    },
    {
      "cell_type": "code",
      "source": [
        "import math"
      ],
      "metadata": {
        "id": "EIdtLC845RWe"
      },
      "execution_count": 52,
      "outputs": []
    },
    {
      "cell_type": "code",
      "source": [
        "math.pi"
      ],
      "metadata": {
        "colab": {
          "base_uri": "https://localhost:8080/"
        },
        "id": "gCOfG6Dk5oQD",
        "outputId": "092a55ba-ef72-4d54-c472-dba9aabac849"
      },
      "execution_count": 53,
      "outputs": [
        {
          "output_type": "execute_result",
          "data": {
            "text/plain": [
              "3.141592653589793"
            ]
          },
          "metadata": {},
          "execution_count": 53
        }
      ]
    },
    {
      "cell_type": "code",
      "source": [
        "math.sin(60)"
      ],
      "metadata": {
        "colab": {
          "base_uri": "https://localhost:8080/"
        },
        "id": "Se3cmfQA5qcN",
        "outputId": "d93ab527-fe39-42fa-d1bc-2cb9c11eb8b8"
      },
      "execution_count": 54,
      "outputs": [
        {
          "output_type": "execute_result",
          "data": {
            "text/plain": [
              "-0.3048106211022167"
            ]
          },
          "metadata": {},
          "execution_count": 54
        }
      ]
    },
    {
      "cell_type": "code",
      "source": [
        "math.sqrt(4)"
      ],
      "metadata": {
        "colab": {
          "base_uri": "https://localhost:8080/"
        },
        "id": "bWOscDot5uDd",
        "outputId": "9abb0721-0907-409b-8f78-66bda0139453"
      },
      "execution_count": 55,
      "outputs": [
        {
          "output_type": "execute_result",
          "data": {
            "text/plain": [
              "2.0"
            ]
          },
          "metadata": {},
          "execution_count": 55
        }
      ]
    },
    {
      "cell_type": "code",
      "source": [
        "import random\n",
        "random.randint(1,100)"
      ],
      "metadata": {
        "colab": {
          "base_uri": "https://localhost:8080/"
        },
        "id": "2f9nNo8V5z7z",
        "outputId": "80183c09-6b6b-4e6f-e7b9-124ee6a40ca3"
      },
      "execution_count": 57,
      "outputs": [
        {
          "output_type": "execute_result",
          "data": {
            "text/plain": [
              "90"
            ]
          },
          "metadata": {},
          "execution_count": 57
        }
      ]
    },
    {
      "cell_type": "code",
      "source": [
        "a = [1,4,6,5,7]\n",
        "random.shuffle(a)\n",
        "a"
      ],
      "metadata": {
        "colab": {
          "base_uri": "https://localhost:8080/"
        },
        "id": "1OglSUQU57hi",
        "outputId": "f8747817-7516-4c64-9ff4-3b0880087b19"
      },
      "execution_count": 60,
      "outputs": [
        {
          "output_type": "execute_result",
          "data": {
            "text/plain": [
              "[5, 7, 4, 6, 1]"
            ]
          },
          "metadata": {},
          "execution_count": 60
        }
      ]
    },
    {
      "cell_type": "code",
      "source": [
        "import time\n",
        "time.ctime()"
      ],
      "metadata": {
        "colab": {
          "base_uri": "https://localhost:8080/",
          "height": 35
        },
        "id": "gf4ot9jU6EUp",
        "outputId": "b249d940-ed20-4e1c-db1b-135954a10edb"
      },
      "execution_count": 62,
      "outputs": [
        {
          "output_type": "execute_result",
          "data": {
            "text/plain": [
              "'Tue Sep 30 04:37:02 2025'"
            ],
            "application/vnd.google.colaboratory.intrinsic+json": {
              "type": "string"
            }
          },
          "metadata": {},
          "execution_count": 62
        }
      ]
    },
    {
      "cell_type": "code",
      "source": [
        "print('Hello')\n",
        "time.sleep(1)\n",
        "print('World')"
      ],
      "metadata": {
        "colab": {
          "base_uri": "https://localhost:8080/"
        },
        "id": "69X9y0GM6Lng",
        "outputId": "c22f98e2-05ae-40d3-edc4-402bd8a45cc9"
      },
      "execution_count": 64,
      "outputs": [
        {
          "output_type": "stream",
          "name": "stdout",
          "text": [
            "Hello\n",
            "World\n"
          ]
        }
      ]
    },
    {
      "cell_type": "code",
      "source": [
        "import os"
      ],
      "metadata": {
        "id": "u3wZYaeb6S44"
      },
      "execution_count": 65,
      "outputs": []
    },
    {
      "cell_type": "code",
      "source": [
        "os.getcwd()"
      ],
      "metadata": {
        "colab": {
          "base_uri": "https://localhost:8080/",
          "height": 35
        },
        "id": "oLyk07Yk6anX",
        "outputId": "a91d99ef-a936-41ed-f240-eab99a656ed9"
      },
      "execution_count": 67,
      "outputs": [
        {
          "output_type": "execute_result",
          "data": {
            "text/plain": [
              "'/content'"
            ],
            "application/vnd.google.colaboratory.intrinsic+json": {
              "type": "string"
            }
          },
          "metadata": {},
          "execution_count": 67
        }
      ]
    },
    {
      "cell_type": "code",
      "source": [],
      "metadata": {
        "id": "kwRXH-st6es3"
      },
      "execution_count": null,
      "outputs": []
    }
  ]
}