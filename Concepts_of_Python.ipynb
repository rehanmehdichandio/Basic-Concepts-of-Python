{
  "nbformat": 4,
  "nbformat_minor": 0,
  "metadata": {
    "colab": {
      "provenance": [],
      "authorship_tag": "ABX9TyPI5X33MgM73BuA5xtzLmDQ",
      "include_colab_link": true
    },
    "kernelspec": {
      "name": "python3",
      "display_name": "Python 3"
    },
    "language_info": {
      "name": "python"
    }
  },
  "cells": [
    {
      "cell_type": "markdown",
      "metadata": {
        "id": "view-in-github",
        "colab_type": "text"
      },
      "source": [
        "<a href=\"https://colab.research.google.com/github/rehanmehdichandio/Basic-Concepts-of-Python/blob/main/Concepts_of_Python.ipynb\" target=\"_parent\"><img src=\"https://colab.research.google.com/assets/colab-badge.svg\" alt=\"Open In Colab\"/></a>"
      ]
    },
    {
      "cell_type": "markdown",
      "source": [
        "**Print() in Python Day: 1**"
      ],
      "metadata": {
        "id": "d8SubJh2eTXV"
      }
    },
    {
      "cell_type": "code",
      "execution_count": null,
      "metadata": {
        "colab": {
          "base_uri": "https://localhost:8080/"
        },
        "id": "qtsfyRpUeP3f",
        "outputId": "aa64468e-0c9c-4495-9e26-9d97e0a8246c"
      },
      "outputs": [
        {
          "output_type": "stream",
          "name": "stdout",
          "text": [
            "Hello World\n"
          ]
        }
      ],
      "source": [
        "print(\"Hello World\")"
      ]
    },
    {
      "cell_type": "code",
      "source": [
        "print(3.5)"
      ],
      "metadata": {
        "colab": {
          "base_uri": "https://localhost:8080/"
        },
        "id": "KoKAviR1eaVc",
        "outputId": "281dc663-483e-4836-b614-b608e7dd3d41"
      },
      "execution_count": null,
      "outputs": [
        {
          "output_type": "stream",
          "name": "stdout",
          "text": [
            "3.5\n"
          ]
        }
      ]
    },
    {
      "cell_type": "code",
      "source": [
        "print(True)"
      ],
      "metadata": {
        "colab": {
          "base_uri": "https://localhost:8080/"
        },
        "id": "rxGCkvmCetKm",
        "outputId": "b1d6b484-650e-41e9-a8bf-73028934d350"
      },
      "execution_count": null,
      "outputs": [
        {
          "output_type": "stream",
          "name": "stdout",
          "text": [
            "True\n"
          ]
        }
      ]
    },
    {
      "cell_type": "code",
      "source": [
        "print(\"India\", \"Pakistan\", \"Srilanka\", 3, 9.999)"
      ],
      "metadata": {
        "colab": {
          "base_uri": "https://localhost:8080/"
        },
        "id": "NIO1NjUgevkQ",
        "outputId": "314e6726-d438-4bbe-8d41-13dc0d4001c3"
      },
      "execution_count": null,
      "outputs": [
        {
          "output_type": "stream",
          "name": "stdout",
          "text": [
            "India Pakistan Srilanka 3 9.999\n"
          ]
        }
      ]
    },
    {
      "cell_type": "code",
      "source": [
        "print(\"India\", \"Pakistan\", \"Srilanka\", 3, 9.999, sep=\"/\")"
      ],
      "metadata": {
        "colab": {
          "base_uri": "https://localhost:8080/"
        },
        "id": "HUckA_PJeys_",
        "outputId": "ae28dd14-358f-485f-f2c7-73cc28d30b97"
      },
      "execution_count": null,
      "outputs": [
        {
          "output_type": "stream",
          "name": "stdout",
          "text": [
            "India/Pakistan/Srilanka/3/9.999\n"
          ]
        }
      ]
    },
    {
      "cell_type": "code",
      "source": [
        "print(\"India\", \"Pakistan\", \"Srilanka\", 3, 9.999, sep=\"/\", end=\".\")"
      ],
      "metadata": {
        "colab": {
          "base_uri": "https://localhost:8080/"
        },
        "id": "fzdtFCa8fMYA",
        "outputId": "c403c2b1-0022-4ff8-8262-1aaf72be07f4"
      },
      "execution_count": null,
      "outputs": [
        {
          "output_type": "stream",
          "name": "stdout",
          "text": [
            "India/Pakistan/Srilanka/3/9.999."
          ]
        }
      ]
    },
    {
      "cell_type": "code",
      "source": [
        "print(\"India\", \"Pakistan\", \"Srilanka\", 3, 9.999, sep=\"/\", end=\"\\n\")\n",
        "print(\"India\", \"Pakistan\", \"Srilanka\", 3, 9.999, sep=\"/\", end=\"\\n\")"
      ],
      "metadata": {
        "colab": {
          "base_uri": "https://localhost:8080/"
        },
        "id": "EmLrOl-0fTzo",
        "outputId": "bbeb5785-3a48-4070-abaf-14feb7948479"
      },
      "execution_count": null,
      "outputs": [
        {
          "output_type": "stream",
          "name": "stdout",
          "text": [
            "India/Pakistan/Srilanka/3/9.999\n",
            "India/Pakistan/Srilanka/3/9.999\n"
          ]
        }
      ]
    },
    {
      "cell_type": "markdown",
      "source": [
        "**Data Types in Python Day:2**"
      ],
      "metadata": {
        "id": "ghZL2PesflPN"
      }
    },
    {
      "cell_type": "code",
      "source": [
        "#integer"
      ],
      "metadata": {
        "id": "L5fHuJJufbVI"
      },
      "execution_count": null,
      "outputs": []
    },
    {
      "cell_type": "code",
      "source": [
        "print(4)"
      ],
      "metadata": {
        "colab": {
          "base_uri": "https://localhost:8080/"
        },
        "id": "as6Gs3VWf1zc",
        "outputId": "e21f86ed-a37c-42c4-969d-97b0efd83017"
      },
      "execution_count": null,
      "outputs": [
        {
          "output_type": "stream",
          "name": "stdout",
          "text": [
            "4\n"
          ]
        }
      ]
    },
    {
      "cell_type": "code",
      "source": [
        "print(1e309)"
      ],
      "metadata": {
        "colab": {
          "base_uri": "https://localhost:8080/"
        },
        "id": "QXTOtW1Tf2uT",
        "outputId": "0781e4c3-0674-4526-f097-661027d8e706"
      },
      "execution_count": null,
      "outputs": [
        {
          "output_type": "stream",
          "name": "stdout",
          "text": [
            "inf\n"
          ]
        }
      ]
    },
    {
      "cell_type": "code",
      "source": [
        "#float\n",
        "print(2.5)\n",
        "print(1.7e308) #309 is limit"
      ],
      "metadata": {
        "colab": {
          "base_uri": "https://localhost:8080/"
        },
        "id": "S8yNn2Tvf7hg",
        "outputId": "661d54b3-c555-41c6-a4fa-a82f15412fd2"
      },
      "execution_count": null,
      "outputs": [
        {
          "output_type": "stream",
          "name": "stdout",
          "text": [
            "2.5\n",
            "1.7e+308\n"
          ]
        }
      ]
    },
    {
      "cell_type": "code",
      "source": [
        "#complex\n",
        "\n",
        "print(4+5j)"
      ],
      "metadata": {
        "colab": {
          "base_uri": "https://localhost:8080/"
        },
        "id": "2lB86oX1gKIf",
        "outputId": "9949b2a9-c340-4808-e444-c54f809f94b2"
      },
      "execution_count": null,
      "outputs": [
        {
          "output_type": "stream",
          "name": "stdout",
          "text": [
            "(4+5j)\n"
          ]
        }
      ]
    },
    {
      "cell_type": "code",
      "source": [
        "#String\n",
        "print(\"HI\")\n",
        "\n",
        "print('hi')"
      ],
      "metadata": {
        "colab": {
          "base_uri": "https://localhost:8080/"
        },
        "id": "xAXwbMaPgYs1",
        "outputId": "5a21084c-edec-48eb-930b-d4d2c4e84025"
      },
      "execution_count": null,
      "outputs": [
        {
          "output_type": "stream",
          "name": "stdout",
          "text": [
            "HI\n",
            "hi\n"
          ]
        }
      ]
    },
    {
      "cell_type": "code",
      "source": [
        "#list\n",
        "\n",
        "print([1,2,3,4,5])"
      ],
      "metadata": {
        "colab": {
          "base_uri": "https://localhost:8080/"
        },
        "id": "OuF8KND7gk7H",
        "outputId": "450da05c-3868-432f-ae62-b78ea2cdb87f"
      },
      "execution_count": null,
      "outputs": [
        {
          "output_type": "stream",
          "name": "stdout",
          "text": [
            "[1, 2, 3, 4, 5]\n"
          ]
        }
      ]
    },
    {
      "cell_type": "code",
      "source": [
        "x=[1,2,3]\n",
        "y=x\n",
        "y[1]=4\n",
        "print(x)\n",
        "print(y)"
      ],
      "metadata": {
        "colab": {
          "base_uri": "https://localhost:8080/"
        },
        "id": "qXmKAbw2gxQ2",
        "outputId": "1133e648-f6b5-44e3-b1aa-0335643b42ca"
      },
      "execution_count": null,
      "outputs": [
        {
          "output_type": "stream",
          "name": "stdout",
          "text": [
            "[1, 4, 3]\n",
            "[1, 4, 3]\n"
          ]
        }
      ]
    },
    {
      "cell_type": "code",
      "source": [
        "#touple\n",
        "print((1,2,3,4))"
      ],
      "metadata": {
        "colab": {
          "base_uri": "https://localhost:8080/"
        },
        "id": "HZf_Ud4Kg23v",
        "outputId": "1d950852-a0bc-4098-cacb-8181861bcc71"
      },
      "execution_count": null,
      "outputs": [
        {
          "output_type": "stream",
          "name": "stdout",
          "text": [
            "(1, 2, 3, 4)\n"
          ]
        }
      ]
    },
    {
      "cell_type": "code",
      "source": [
        "#sets\n",
        "\n",
        "print({1,2,3})"
      ],
      "metadata": {
        "colab": {
          "base_uri": "https://localhost:8080/"
        },
        "id": "gbnxjWWRhJ7X",
        "outputId": "dc61dd1a-6545-4af5-c803-1acc98792c4e"
      },
      "execution_count": null,
      "outputs": [
        {
          "output_type": "stream",
          "name": "stdout",
          "text": [
            "{1, 2, 3}\n"
          ]
        }
      ]
    },
    {
      "cell_type": "code",
      "source": [
        "#dictionary\n",
        "\n",
        "print({\"Name\": \"Rehan\", \"Age\":23, \"Caste\": \"Chandio\"})"
      ],
      "metadata": {
        "colab": {
          "base_uri": "https://localhost:8080/"
        },
        "id": "798Xsc_ahNPJ",
        "outputId": "f076d71d-5532-4526-af13-298fbefe4450"
      },
      "execution_count": null,
      "outputs": [
        {
          "output_type": "stream",
          "name": "stdout",
          "text": [
            "{'Name': 'Rehan', 'Age': 23, 'Caste': 'Chandio'}\n"
          ]
        }
      ]
    },
    {
      "cell_type": "markdown",
      "source": [
        "**Comments in Python Day3**"
      ],
      "metadata": {
        "id": "cwAkHy6yhhn9"
      }
    },
    {
      "cell_type": "code",
      "source": [
        "#Comments\n",
        "#Declare two variables and add both of them\n",
        "a=5\n",
        "b=7\n",
        "print(a+b)"
      ],
      "metadata": {
        "colab": {
          "base_uri": "https://localhost:8080/"
        },
        "id": "whYCe3dUhebd",
        "outputId": "3566b939-ac8c-41b0-b79c-da005071f6a2"
      },
      "execution_count": null,
      "outputs": [
        {
          "output_type": "stream",
          "name": "stdout",
          "text": [
            "12\n"
          ]
        }
      ]
    },
    {
      "cell_type": "markdown",
      "source": [
        "**Variables in Python Day:4**"
      ],
      "metadata": {
        "id": "obNRRMZ1h36Y"
      }
    },
    {
      "cell_type": "code",
      "source": [
        "#variables\n",
        "\n",
        "name = 'Rehan'\n",
        "print(name)"
      ],
      "metadata": {
        "colab": {
          "base_uri": "https://localhost:8080/"
        },
        "id": "wI28rvQ3hvdS",
        "outputId": "1c20a477-6fce-4573-fb08-63d36813e3b9"
      },
      "execution_count": null,
      "outputs": [
        {
          "output_type": "stream",
          "name": "stdout",
          "text": [
            "Rehan\n"
          ]
        }
      ]
    },
    {
      "cell_type": "code",
      "source": [
        "name = 4\n",
        "\n",
        "print(name)"
      ],
      "metadata": {
        "colab": {
          "base_uri": "https://localhost:8080/"
        },
        "id": "Hk0Y2taPibLQ",
        "outputId": "7248f330-1047-4e91-eef5-96dadde92577"
      },
      "execution_count": null,
      "outputs": [
        {
          "output_type": "stream",
          "name": "stdout",
          "text": [
            "4\n"
          ]
        }
      ]
    },
    {
      "cell_type": "code",
      "source": [
        "#Dynamic Typing: No declaring the type of Data\n",
        "#Static Typing: Declrating the data type"
      ],
      "metadata": {
        "id": "Yo7Sya0jifm2"
      },
      "execution_count": null,
      "outputs": []
    },
    {
      "cell_type": "code",
      "source": [
        "#special syntax\n",
        "\n",
        "a=5; b=6; c=7\n",
        "print(a)\n",
        "print(b)\n",
        "print(c)"
      ],
      "metadata": {
        "colab": {
          "base_uri": "https://localhost:8080/"
        },
        "id": "lI8tMXbUitl0",
        "outputId": "6db7a3c3-9fc7-402e-bfde-8391211eb9b9"
      },
      "execution_count": null,
      "outputs": [
        {
          "output_type": "stream",
          "name": "stdout",
          "text": [
            "5\n",
            "6\n",
            "7\n"
          ]
        }
      ]
    },
    {
      "cell_type": "code",
      "source": [
        "a,b,c=4,5,6\n",
        "print(a)\n",
        "print(b)\n",
        "print(c)"
      ],
      "metadata": {
        "colab": {
          "base_uri": "https://localhost:8080/"
        },
        "id": "JTWp094DjPjr",
        "outputId": "4ddddb80-b6af-4ea3-edd3-12bebdf2b0e4"
      },
      "execution_count": null,
      "outputs": [
        {
          "output_type": "stream",
          "name": "stdout",
          "text": [
            "4\n",
            "5\n",
            "6\n"
          ]
        }
      ]
    },
    {
      "cell_type": "markdown",
      "source": [
        "**Identifiers and Keywords in Python Day:5**"
      ],
      "metadata": {
        "id": "FFJKVdcPjeaW"
      }
    },
    {
      "cell_type": "markdown",
      "source": [
        "Keywords:\n",
        "   Reserved words of the programming language which can't be used as a variable."
      ],
      "metadata": {
        "id": "9xr_bB2oklmx"
      }
    },
    {
      "cell_type": "code",
      "source": [
        "#Keyword:\n",
        "\n",
        "import keyword\n",
        "print(keyword.kwlist)"
      ],
      "metadata": {
        "colab": {
          "base_uri": "https://localhost:8080/"
        },
        "id": "Pkk4MlLyjU-N",
        "outputId": "e9fcc98d-cbba-48dd-e963-0128e442734b"
      },
      "execution_count": null,
      "outputs": [
        {
          "output_type": "stream",
          "name": "stdout",
          "text": [
            "['False', 'None', 'True', 'and', 'as', 'assert', 'async', 'await', 'break', 'class', 'continue', 'def', 'del', 'elif', 'else', 'except', 'finally', 'for', 'from', 'global', 'if', 'import', 'in', 'is', 'lambda', 'nonlocal', 'not', 'or', 'pass', 'raise', 'return', 'try', 'while', 'with', 'yield']\n"
          ]
        }
      ]
    },
    {
      "cell_type": "markdown",
      "source": [
        "Identifiers:\n",
        "\n",
        "A python indentifier is a name used to identify a variable, function, class, module or other objects.\n",
        "\n",
        "\n",
        "\n",
        "*   Can only Start with an alphabet or _\n",
        "*   Followed by 0 or more letters, _ and digits\n",
        "*   Keywords cannot be used as an identifier\n",
        "\n",
        "\n",
        "\n",
        "\n"
      ],
      "metadata": {
        "id": "KFsBJVkTkzo1"
      }
    },
    {
      "cell_type": "code",
      "source": [
        "name = 'Rehan'\n",
        "print(name)"
      ],
      "metadata": {
        "colab": {
          "base_uri": "https://localhost:8080/"
        },
        "id": "zAXgbi3Fj5QF",
        "outputId": "1d3a006b-cefc-46ad-9947-3a91f50a4d27"
      },
      "execution_count": null,
      "outputs": [
        {
          "output_type": "stream",
          "name": "stdout",
          "text": [
            "Rehan\n"
          ]
        }
      ]
    },
    {
      "cell_type": "code",
      "source": [
        "_=4;\n",
        "print(_)"
      ],
      "metadata": {
        "colab": {
          "base_uri": "https://localhost:8080/"
        },
        "id": "LCt1rI2KmFB8",
        "outputId": "7c45184f-ce8c-47ee-ef6c-0e0ca823a3b4"
      },
      "execution_count": null,
      "outputs": [
        {
          "output_type": "stream",
          "name": "stdout",
          "text": [
            "4\n"
          ]
        }
      ]
    },
    {
      "cell_type": "code",
      "source": [
        "First_Name= 'Rehan'\n",
        "print(First_Name)"
      ],
      "metadata": {
        "colab": {
          "base_uri": "https://localhost:8080/"
        },
        "id": "8G6gMYypmICI",
        "outputId": "73907cf1-c908-41b6-951d-4887000f38a0"
      },
      "execution_count": null,
      "outputs": [
        {
          "output_type": "stream",
          "name": "stdout",
          "text": [
            "Rehan\n"
          ]
        }
      ]
    },
    {
      "cell_type": "markdown",
      "source": [
        "**User-Input and Type Conversion Day:06**"
      ],
      "metadata": {
        "id": "n7LBa1YVmxnk"
      }
    },
    {
      "cell_type": "code",
      "source": [
        "input('Name:')"
      ],
      "metadata": {
        "colab": {
          "base_uri": "https://localhost:8080/",
          "height": 52
        },
        "id": "laLpzh9umaRK",
        "outputId": "b7c923d1-8592-4281-b3f1-ab0982887e5f"
      },
      "execution_count": null,
      "outputs": [
        {
          "name": "stdout",
          "output_type": "stream",
          "text": [
            "Name:Rehan Mehdi\n"
          ]
        },
        {
          "output_type": "execute_result",
          "data": {
            "text/plain": [
              "'Rehan Mehdi'"
            ],
            "application/vnd.google.colaboratory.intrinsic+json": {
              "type": "string"
            }
          },
          "metadata": {},
          "execution_count": 56
        }
      ]
    },
    {
      "cell_type": "code",
      "source": [
        "first_num = input('Enter the first number:')\n",
        "second_num = input('Enter the second number')\n",
        "\n"
      ],
      "metadata": {
        "colab": {
          "base_uri": "https://localhost:8080/"
        },
        "id": "rukyjj_NnOVW",
        "outputId": "b4c0d1ed-93d7-4d7c-cd03-362c4ac58265"
      },
      "execution_count": null,
      "outputs": [
        {
          "name": "stdout",
          "output_type": "stream",
          "text": [
            "Enter the first number:5\n",
            "Enter the second number4\n"
          ]
        }
      ]
    },
    {
      "cell_type": "code",
      "source": [
        "print(first_num)\n",
        "print(second_num)"
      ],
      "metadata": {
        "colab": {
          "base_uri": "https://localhost:8080/"
        },
        "id": "HTEkZenGn2tp",
        "outputId": "cb8f618d-d732-4438-f0bd-0cc4735dc803"
      },
      "execution_count": null,
      "outputs": [
        {
          "output_type": "stream",
          "name": "stdout",
          "text": [
            "5\n",
            "4\n"
          ]
        }
      ]
    },
    {
      "cell_type": "code",
      "source": [
        "result = first_num + second_num\n",
        "\n",
        "print(result)"
      ],
      "metadata": {
        "colab": {
          "base_uri": "https://localhost:8080/"
        },
        "id": "DCZ5xRN3n6O8",
        "outputId": "275b1695-a084-487a-e28d-7e1894a7801f"
      },
      "execution_count": null,
      "outputs": [
        {
          "output_type": "stream",
          "name": "stdout",
          "text": [
            "54\n"
          ]
        }
      ]
    },
    {
      "cell_type": "code",
      "source": [
        "type(result)"
      ],
      "metadata": {
        "colab": {
          "base_uri": "https://localhost:8080/"
        },
        "id": "sspZMGaQoAeR",
        "outputId": "fef53b1e-2298-4284-c6e0-2beb5bb518ed"
      },
      "execution_count": null,
      "outputs": [
        {
          "output_type": "execute_result",
          "data": {
            "text/plain": [
              "str"
            ]
          },
          "metadata": {},
          "execution_count": 60
        }
      ]
    },
    {
      "cell_type": "code",
      "source": [
        "#Type Conversion --> Not a permenant Operation\n",
        "#implicit --> Automatic type conversion by python\n",
        "#explicit --> Programmer does himself"
      ],
      "metadata": {
        "id": "2HAtRx4MoK7i"
      },
      "execution_count": null,
      "outputs": []
    },
    {
      "cell_type": "code",
      "source": [
        "#implicit\n",
        "5+5.5+5+5j"
      ],
      "metadata": {
        "colab": {
          "base_uri": "https://localhost:8080/"
        },
        "id": "BETm0vbvo5aB",
        "outputId": "9079eb59-5fc4-4f1e-d554-2c5369984212"
      },
      "execution_count": null,
      "outputs": [
        {
          "output_type": "execute_result",
          "data": {
            "text/plain": [
              "(15.5+5j)"
            ]
          },
          "metadata": {},
          "execution_count": 62
        }
      ]
    },
    {
      "cell_type": "code",
      "source": [
        "#explicit\n",
        "\n",
        "int(first_num)\n",
        "print(first_num)\n",
        "type(first_num)"
      ],
      "metadata": {
        "colab": {
          "base_uri": "https://localhost:8080/"
        },
        "id": "M_foJJlNpBEK",
        "outputId": "c50d6816-e83a-4e46-d0ab-cc5c62f3372f"
      },
      "execution_count": null,
      "outputs": [
        {
          "output_type": "stream",
          "name": "stdout",
          "text": [
            "5\n"
          ]
        },
        {
          "output_type": "execute_result",
          "data": {
            "text/plain": [
              "str"
            ]
          },
          "metadata": {},
          "execution_count": 66
        }
      ]
    },
    {
      "cell_type": "code",
      "source": [
        "first_num = input('Enter the first number:')\n",
        "second_num = input('Enter the second number')\n",
        "\n",
        "result = int(first_num) + int(second_num)\n",
        "\n",
        "print(result)"
      ],
      "metadata": {
        "colab": {
          "base_uri": "https://localhost:8080/"
        },
        "id": "yxfzlTpQpNkn",
        "outputId": "68ff5950-8ae1-4a9b-abd4-2d0945ca1cfb"
      },
      "execution_count": null,
      "outputs": [
        {
          "output_type": "stream",
          "name": "stdout",
          "text": [
            "Enter the first number:5\n",
            "Enter the second number5\n",
            "10\n"
          ]
        }
      ]
    },
    {
      "cell_type": "markdown",
      "source": [
        "**Literals in Python Day07**\n",
        "\n",
        "  literal basically a raw data given in a varibale in Python. There are various types of Literals"
      ],
      "metadata": {
        "id": "sj1POVEMe1k0"
      }
    },
    {
      "cell_type": "markdown",
      "source": [
        "Numeric Literals"
      ],
      "metadata": {
        "id": "MOLdWXScfMYR"
      }
    },
    {
      "cell_type": "code",
      "source": [
        "a = 0b1010  #Binary Literals\n",
        "b=100   #Decimal Literals\n",
        "c=0o310   #Octal Literals\n",
        "d=0x12c   #Hexadecimal literals\n",
        "print(a)\n",
        "print(b)\n",
        "print(c)\n",
        "print(d)"
      ],
      "metadata": {
        "id": "9uThX_0Fpre4",
        "colab": {
          "base_uri": "https://localhost:8080/"
        },
        "outputId": "e5a8e1dc-c0fd-44c3-c88c-b915649f93a1"
      },
      "execution_count": 4,
      "outputs": [
        {
          "output_type": "stream",
          "name": "stdout",
          "text": [
            "10\n",
            "100\n",
            "200\n",
            "300\n"
          ]
        }
      ]
    },
    {
      "cell_type": "markdown",
      "source": [
        "String Literals"
      ],
      "metadata": {
        "id": "GmVb1wQmgDqM"
      }
    },
    {
      "cell_type": "code",
      "source": [
        "string = 'This is python'\n",
        "strings = \"This is Python\"\n",
        "char = \"C\"\n",
        "multiliner = \"\"\"This is multiline string with more than one line of code\"\"\""
      ],
      "metadata": {
        "id": "KOUPLP4kfjpL"
      },
      "execution_count": 6,
      "outputs": []
    },
    {
      "cell_type": "code",
      "source": [
        "print(string)\n",
        "print(strings)\n",
        "print(char)\n",
        "print(multiliner)"
      ],
      "metadata": {
        "colab": {
          "base_uri": "https://localhost:8080/"
        },
        "id": "7AQtfrhPgPjm",
        "outputId": "e3dcf7bd-304d-481c-f6cf-0febb0f71804"
      },
      "execution_count": 7,
      "outputs": [
        {
          "output_type": "stream",
          "name": "stdout",
          "text": [
            "This is python\n",
            "This is Python\n",
            "C\n",
            "This is multiline string with more than one line of code\n"
          ]
        }
      ]
    },
    {
      "cell_type": "markdown",
      "source": [
        "**Operator in Python Day:8**\n",
        "\n",
        "\n",
        "*   Arithmetic operators\n",
        "*   Comparision operators\n",
        "*   Logical Operator\n",
        "*   Bitwise Operators\n",
        "*   Assignment Operators\n",
        "*   Identity Operator\n",
        "*   Membership Operator\n",
        "\n",
        "\n",
        "\n"
      ],
      "metadata": {
        "id": "MYKk8OlnhLh7"
      }
    },
    {
      "cell_type": "code",
      "source": [
        "#Arithmatic\n",
        "\n",
        "x = 5\n",
        "y = 2\n",
        "\n",
        "print(\"This addition: \", x+y)\n",
        "print(\"This substraction: \", x-y)\n",
        "print(\"This Multiplication: \", x*y)\n",
        "print(\"This Division: \", x/y)\n",
        "print(\"This Modulus: \", x%y)\n",
        "print(\"This Exponent: \", x**y)\n",
        "print(\"This Floor Division: \", x//y)\n"
      ],
      "metadata": {
        "colab": {
          "base_uri": "https://localhost:8080/"
        },
        "id": "DU29sPQcgmJE",
        "outputId": "6440673b-1b45-49d5-8c46-60ce95fd6c6a"
      },
      "execution_count": 9,
      "outputs": [
        {
          "output_type": "stream",
          "name": "stdout",
          "text": [
            "This addition:  7\n",
            "This substraction:  3\n",
            "This Multiplication:  10\n",
            "This Division:  2.5\n",
            "This Modulus:  1\n",
            "This Exponent:  25\n",
            "This Floor Division:  2\n"
          ]
        }
      ]
    },
    {
      "cell_type": "code",
      "source": [
        "#Comparision Operators\n",
        "print(\"Result of equal to operator is: \", x==y)\n",
        "print(\"Result of greater than operator is: \",x>y)\n",
        "print(\"Result of less than operator is: \",x<y)\n",
        "print(\"Result of not equals to operator is: \",x!=y)\n",
        "print(\"Result of greater than and equals to operator is: \",x>=y)\n",
        "print(\"Result of less than and equals to operator is: \",x<=y)\n"
      ],
      "metadata": {
        "colab": {
          "base_uri": "https://localhost:8080/"
        },
        "id": "0GORwr-KiH3m",
        "outputId": "d78f6661-31a2-4937-e52f-5261408ce840"
      },
      "execution_count": 11,
      "outputs": [
        {
          "output_type": "stream",
          "name": "stdout",
          "text": [
            "Result of equal to operator is:  False\n",
            "Result of greater than operator is:  True\n",
            "Result of less than operator is:  False\n",
            "Result of not equals to operator is:  True\n",
            "Result of greater than and equals to operator is:  True\n",
            "Result of less than and equals to operator is:  False\n"
          ]
        }
      ]
    },
    {
      "cell_type": "code",
      "source": [
        "#logical Operators\n",
        "\n",
        "x = True\n",
        "y = False\n",
        "\n",
        "print(\"Result of and operator is: \",x and y)\n",
        "print(\"Result of or operator is: \",x or y)\n",
        "print(\"Result of not operator is: \",not y)"
      ],
      "metadata": {
        "colab": {
          "base_uri": "https://localhost:8080/"
        },
        "id": "f7SLvH3Pievw",
        "outputId": "746c7443-1fc5-46a5-fbed-b2ccaff289dc"
      },
      "execution_count": 12,
      "outputs": [
        {
          "output_type": "stream",
          "name": "stdout",
          "text": [
            "Result of and operator is:  False\n",
            "Result of or operator is:  True\n",
            "Result of not operator is:  True\n"
          ]
        }
      ]
    },
    {
      "cell_type": "code",
      "source": [
        "#bitwise operators  and operator will be performed on binary\n",
        "\n",
        "x=2\n",
        "y=3\n",
        "print(x & y)\n",
        "\n",
        "# 2 = 010\n",
        "# 3 = 110\n",
        "#---------\n",
        "#     010 =2"
      ],
      "metadata": {
        "colab": {
          "base_uri": "https://localhost:8080/"
        },
        "id": "vq_x-CZIi-Qo",
        "outputId": "cae2f6ab-23c4-4692-f240-5e8d8f1e90cf"
      },
      "execution_count": 18,
      "outputs": [
        {
          "output_type": "stream",
          "name": "stdout",
          "text": [
            "2\n"
          ]
        }
      ]
    },
    {
      "cell_type": "code",
      "source": [
        "print(x|y) #or operator will be performed on binary\n",
        "# 2 = 010\n",
        "# 3 = 110\n",
        "#---------\n",
        "#     010 =2"
      ],
      "metadata": {
        "colab": {
          "base_uri": "https://localhost:8080/"
        },
        "id": "F2-Y6vlIjJ6x",
        "outputId": "4efc7f5b-1d86-4ae6-e18f-aa6dce8e9963"
      },
      "execution_count": 19,
      "outputs": [
        {
          "output_type": "stream",
          "name": "stdout",
          "text": [
            "3\n"
          ]
        }
      ]
    },
    {
      "cell_type": "code",
      "source": [
        "#Assignemnt operator\n",
        "\n",
        "x=2\n",
        "print(x)\n",
        "x +=3\n",
        "print(x)\n",
        "x = x+3\n",
        "print(x)\n",
        "\n",
        "#increment and decrement operator is not used in python (a++ or ++a)"
      ],
      "metadata": {
        "colab": {
          "base_uri": "https://localhost:8080/"
        },
        "id": "PSpbpBS2jfSn",
        "outputId": "138cdabb-8828-4921-b844-4c97c3de0344"
      },
      "execution_count": 22,
      "outputs": [
        {
          "output_type": "stream",
          "name": "stdout",
          "text": [
            "2\n",
            "5\n",
            "8\n"
          ]
        }
      ]
    },
    {
      "cell_type": "code",
      "source": [
        "#identity operators     two or more variables having same value and same memroy\n",
        "\n",
        "a = \"Hello\"\n",
        "b = \"Hello\"\n",
        "print(a is b)\n",
        "\n",
        "a = 5\n",
        "b = 5\n",
        "print(a is b)\n",
        "\n",
        "\n",
        "a = [1,2,3]\n",
        "b = [1,2,3]\n",
        "print(a is b)\n",
        "\n",
        "\n",
        "#Having same values only does not specify the problem it should\n",
        "#be on the same memory as well\n"
      ],
      "metadata": {
        "colab": {
          "base_uri": "https://localhost:8080/"
        },
        "id": "WmWFUyvakGb-",
        "outputId": "f90adde1-670d-4651-c95c-af53dce8d59d"
      },
      "execution_count": 26,
      "outputs": [
        {
          "output_type": "stream",
          "name": "stdout",
          "text": [
            "True\n",
            "True\n",
            "False\n"
          ]
        }
      ]
    },
    {
      "cell_type": "code",
      "source": [
        "#Membership Operator\n",
        "\n",
        "x = \"Delhi\"\n",
        "\n",
        "print(\"D\" in x)\n",
        "\n",
        "x = [1,2,3]\n",
        "print(1 in x)\n",
        "print(2 not in x)"
      ],
      "metadata": {
        "colab": {
          "base_uri": "https://localhost:8080/"
        },
        "id": "GFGeF-6Wku4o",
        "outputId": "4534d98e-f3ea-4ff0-a3ef-ada8102e922d"
      },
      "execution_count": 28,
      "outputs": [
        {
          "output_type": "stream",
          "name": "stdout",
          "text": [
            "True\n",
            "True\n",
            "False\n"
          ]
        }
      ]
    },
    {
      "cell_type": "markdown",
      "source": [
        "**Decision Control Statements Day09**\n"
      ],
      "metadata": {
        "id": "I7AwLcinlpEJ"
      }
    },
    {
      "cell_type": "code",
      "source": [
        "#Correct emial is rehan@gmail.com\n",
        "#Correct password is 1234\n",
        "email = input(\"Enter you email\");\n",
        "password = input(\"Enter your password\");\n",
        "\n",
        "if email == \"rehan@gmail.com\" and password == \"1234\":\n",
        "  print(\"Welcome\")\n",
        "\n",
        "else:\n",
        "  print(\"Incorrect email or password\")"
      ],
      "metadata": {
        "colab": {
          "base_uri": "https://localhost:8080/"
        },
        "id": "-YhDf5SalaWf",
        "outputId": "48ee2775-039e-42ef-8234-f68ae4a1538d"
      },
      "execution_count": 29,
      "outputs": [
        {
          "output_type": "stream",
          "name": "stdout",
          "text": [
            "Enter you emailrehan@yahoo.com\n",
            "Enter your password1234\n",
            "Incorrect email or password\n"
          ]
        }
      ]
    },
    {
      "cell_type": "code",
      "source": [],
      "metadata": {
        "id": "2eKjpdJwmUjw"
      },
      "execution_count": null,
      "outputs": []
    }
  ]
}